{
 "cells": [
  {
   "cell_type": "markdown",
   "id": "77a67f09",
   "metadata": {},
   "source": [
    "# Neural Network on KDD\n",
    "\n",
    "Initial attempt at NN\n",
    "\n",
    "### Data import"
   ]
  },
  {
   "cell_type": "code",
   "execution_count": 1,
   "id": "185cd727",
   "metadata": {},
   "outputs": [],
   "source": [
    "import pandas as pd\n",
    "import numpy as np\n",
    "import sklearn"
   ]
  },
  {
   "cell_type": "code",
   "execution_count": 8,
   "id": "d431c492",
   "metadata": {},
   "outputs": [],
   "source": [
    "from sklearn.datasets import fetch_kddcup99"
   ]
  },
  {
   "cell_type": "code",
   "execution_count": 10,
   "id": "4ba0dd4e",
   "metadata": {},
   "outputs": [],
   "source": [
    "kdd_10 = fetch_kddcup99(percent10=True)"
   ]
  },
  {
   "cell_type": "code",
   "execution_count": null,
   "id": "4ed71e9f",
   "metadata": {},
   "outputs": [],
   "source": []
  }
 ],
 "metadata": {
  "kernelspec": {
   "display_name": "Python 3 (ipykernel)",
   "language": "python",
   "name": "python3"
  },
  "language_info": {
   "codemirror_mode": {
    "name": "ipython",
    "version": 3
   },
   "file_extension": ".py",
   "mimetype": "text/x-python",
   "name": "python",
   "nbconvert_exporter": "python",
   "pygments_lexer": "ipython3",
   "version": "3.9.12"
  }
 },
 "nbformat": 4,
 "nbformat_minor": 5
}
