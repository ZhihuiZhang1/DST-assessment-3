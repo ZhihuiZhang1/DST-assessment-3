{
 "cells": [
  {
   "cell_type": "markdown",
   "id": "4dc1b66f",
   "metadata": {},
   "source": [
    "# Activation function investigation\n",
    "\n"
   ]
  },
  {
   "cell_type": "markdown",
   "id": "f3473b4d",
   "metadata": {},
   "source": [
    "### Plotting activation functions"
   ]
  },
  {
   "cell_type": "code",
   "execution_count": 144,
   "id": "7a7d1252",
   "metadata": {},
   "outputs": [
    {
     "data": {
      "image/png": "[encoded data removed]",
      "text/plain": [
       "<Figure size 432x288 with 1 Axes>"
      ]
     },
     "metadata": {
      "needs_background": "light"
     },
     "output_type": "display_data"
    }
   ],
   "source": [
    "import numpy as np\n",
    "import math\n",
    "\n",
    "# Sigmoid Function\n",
    "def sigmoid(x):\n",
    "    a = []\n",
    "    for i in x:\n",
    "        a.append(1/(1+math.exp(-i)))\n",
    "    return a\n",
    "# Hyperbolic Tanjant Function\n",
    "def tanh(x, derivative=False):\n",
    "    if (derivative == True):\n",
    "        return (1 - (x ** 2))\n",
    "    return np.tanh(x)\n",
    "# ReLU Function\n",
    "def re(x):\n",
    "    b = []\n",
    "    for i in x:\n",
    "        if i<0:\n",
    "            b.append(0)\n",
    "        else:\n",
    "            b.append(i)\n",
    "    return b\n",
    "# Leaky ReLU Function\n",
    "\n",
    "# Determining the intervals to be created for the graph\n",
    "x = np.arange(-3., 3., 0.1)\n",
    "sig = sigmoid(x)\n",
    "tanh = tanh(x)\n",
    "relu = re(x)\n",
    "swish = sig*x\n",
    "\n",
    "# Displaying the functions\n",
    "line_1, = plt.plot(x,sig, label='Sigmoid')\n",
    "line_2, = plt.plot(x,tanh, label='Tanh')\n",
    "line_3, = plt.plot(x,relu, label='ReLU')\n",
    "line_4, = plt.plot(x,swish, label='Swish')\n",
    "plt.legend(handles=[line_1, line_2, line_3, line_4])\n",
    "plt.axhline(y=0, color='k')\n",
    "plt.axvline(x=0, color='k')\n",
    "plt.show()"
   ]
  },
  {
   "cell_type": "markdown",
   "id": "bedc3808",
   "metadata": {},
   "source": [
    "### Loading data"
   ]
  },
  {
   "cell_type": "code",
   "execution_count": 101,
   "id": "38b0e3e5",
   "metadata": {},
   "outputs": [
    {
     "name": "stdout",
     "output_type": "stream",
     "text": [
      "[[[[193. 188. 209.]\n",
      "   [211. 206. 227.]\n",
      "   [175. 170. 191.]\n",
      "   ...\n",
      "   [184. 178. 195.]\n",
      "   [173. 167. 184.]\n",
      "   [178. 172. 189.]]\n",
      "\n",
      "  [[177. 172. 193.]\n",
      "   [184. 179. 200.]\n",
      "   [190. 185. 206.]\n",
      "   ...\n",
      "   [174. 168. 185.]\n",
      "   [178. 172. 189.]\n",
      "   [184. 178. 195.]]\n",
      "\n",
      "  [[202. 197. 218.]\n",
      "   [239. 234. 255.]\n",
      "   [190. 185. 206.]\n",
      "   ...\n",
      "   [184. 178. 195.]\n",
      "   [200. 192. 209.]\n",
      "   [193. 185. 202.]]\n",
      "\n",
      "  ...\n",
      "\n",
      "  [[218. 210. 227.]\n",
      "   [212. 204. 221.]\n",
      "   [244. 236. 253.]\n",
      "   ...\n",
      "   [190. 180. 196.]\n",
      "   [187. 177. 193.]\n",
      "   [184. 174. 190.]]\n",
      "\n",
      "  [[225. 215. 232.]\n",
      "   [225. 215. 232.]\n",
      "   [198. 188. 205.]\n",
      "   ...\n",
      "   [199. 189. 205.]\n",
      "   [198. 188. 204.]\n",
      "   [185. 175. 191.]]\n",
      "\n",
      "  [[207. 197. 214.]\n",
      "   [209. 199. 216.]\n",
      "   [218. 208. 225.]\n",
      "   ...\n",
      "   [187. 177. 193.]\n",
      "   [200. 190. 206.]\n",
      "   [185. 175. 191.]]]\n",
      "\n",
      "\n",
      " [[[157. 156. 158.]\n",
      "   [162. 161. 163.]\n",
      "   [166. 163. 165.]\n",
      "   ...\n",
      "   [148. 147. 151.]\n",
      "   [136. 137. 141.]\n",
      "   [162. 163. 167.]]\n",
      "\n",
      "  [[161. 160. 162.]\n",
      "   [162. 161. 163.]\n",
      "   [170. 167. 169.]\n",
      "   ...\n",
      "   [142. 141. 145.]\n",
      "   [142. 143. 147.]\n",
      "   [142. 143. 147.]]\n",
      "\n",
      "  [[161. 160. 162.]\n",
      "   [166. 165. 167.]\n",
      "   [162. 161. 163.]\n",
      "   ...\n",
      "   [155. 156. 160.]\n",
      "   [150. 151. 155.]\n",
      "   [150. 151. 155.]]\n",
      "\n",
      "  ...\n",
      "\n",
      "  [[168. 167. 171.]\n",
      "   [172. 171. 175.]\n",
      "   [174. 173. 177.]\n",
      "   ...\n",
      "   [135. 135. 141.]\n",
      "   [126. 126. 132.]\n",
      "   [127. 127. 133.]]\n",
      "\n",
      "  [[167. 166. 170.]\n",
      "   [172. 171. 175.]\n",
      "   [172. 171. 175.]\n",
      "   ...\n",
      "   [115. 117. 125.]\n",
      "   [125. 128. 133.]\n",
      "   [124. 127. 132.]]\n",
      "\n",
      "  [[168. 167. 171.]\n",
      "   [168. 167. 171.]\n",
      "   [166. 165. 169.]\n",
      "   ...\n",
      "   [ 76.  95.  86.]\n",
      "   [ 98. 101. 106.]\n",
      "   [112. 115. 120.]]]\n",
      "\n",
      "\n",
      " [[[120. 122. 122.]\n",
      "   [116. 118. 118.]\n",
      "   [111. 116. 115.]\n",
      "   ...\n",
      "   [137. 139. 139.]\n",
      "   [137. 139. 139.]\n",
      "   [137. 139. 139.]]\n",
      "\n",
      "  [[110. 116. 115.]\n",
      "   [109. 115. 114.]\n",
      "   [108. 113. 112.]\n",
      "   ...\n",
      "   [139. 141. 141.]\n",
      "   [140. 142. 142.]\n",
      "   [140. 142. 142.]]\n",
      "\n",
      "  [[115. 120. 119.]\n",
      "   [112. 117. 116.]\n",
      "   [111. 116. 115.]\n",
      "   ...\n",
      "   [138. 140. 140.]\n",
      "   [139. 141. 141.]\n",
      "   [139. 141. 141.]]\n",
      "\n",
      "  ...\n",
      "\n",
      "  [[ 84.  92.  90.]\n",
      "   [ 80.  91.  89.]\n",
      "   [ 78.  83.  82.]\n",
      "   ...\n",
      "   [131. 138. 135.]\n",
      "   [135. 140. 138.]\n",
      "   [139. 144. 142.]]\n",
      "\n",
      "  [[ 81.  86.  87.]\n",
      "   [ 83.  88.  89.]\n",
      "   [ 81.  91.  91.]\n",
      "   ...\n",
      "   [146. 152. 151.]\n",
      "   [139. 144. 142.]\n",
      "   [135. 140. 138.]]\n",
      "\n",
      "  [[ 81.  86.  87.]\n",
      "   [ 81.  86.  87.]\n",
      "   [ 78.  86.  86.]\n",
      "   ...\n",
      "   [131. 137. 136.]\n",
      "   [135. 140. 138.]\n",
      "   [135. 140. 138.]]]\n",
      "\n",
      "\n",
      " [[[154. 151. 166.]\n",
      "   [160. 157. 172.]\n",
      "   [149. 146. 162.]\n",
      "   ...\n",
      "   [159. 156. 172.]\n",
      "   [147. 144. 159.]\n",
      "   [161. 158. 173.]]\n",
      "\n",
      "  [[153. 150. 165.]\n",
      "   [157. 154. 169.]\n",
      "   [157. 154. 170.]\n",
      "   ...\n",
      "   [149. 146. 162.]\n",
      "   [152. 149. 164.]\n",
      "   [149. 146. 161.]]\n",
      "\n",
      "  [[170. 167. 182.]\n",
      "   [160. 157. 172.]\n",
      "   [160. 157. 172.]\n",
      "   ...\n",
      "   [152. 149. 165.]\n",
      "   [162. 159. 175.]\n",
      "   [154. 151. 167.]]\n",
      "\n",
      "  ...\n",
      "\n",
      "  [[189. 184. 199.]\n",
      "   [177. 172. 187.]\n",
      "   [191. 187. 199.]\n",
      "   ...\n",
      "   [191. 187. 199.]\n",
      "   [182. 178. 190.]\n",
      "   [201. 197. 209.]]\n",
      "\n",
      "  [[173. 169. 181.]\n",
      "   [187. 183. 195.]\n",
      "   [187. 183. 195.]\n",
      "   ...\n",
      "   [194. 190. 202.]\n",
      "   [197. 193. 205.]\n",
      "   [192. 188. 200.]]\n",
      "\n",
      "  [[175. 171. 183.]\n",
      "   [187. 183. 195.]\n",
      "   [201. 197. 209.]\n",
      "   ...\n",
      "   [178. 174. 186.]\n",
      "   [190. 186. 198.]\n",
      "   [195. 191. 203.]]]\n",
      "\n",
      "\n",
      " [[[186. 177. 190.]\n",
      "   [191. 182. 195.]\n",
      "   [201. 191. 207.]\n",
      "   ...\n",
      "   [222. 215. 230.]\n",
      "   [225. 218. 233.]\n",
      "   [233. 226. 241.]]\n",
      "\n",
      "  [[193. 184. 197.]\n",
      "   [189. 180. 193.]\n",
      "   [193. 183. 199.]\n",
      "   ...\n",
      "   [240. 233. 248.]\n",
      "   [235. 228. 243.]\n",
      "   [229. 222. 237.]]\n",
      "\n",
      "  [[187. 178. 191.]\n",
      "   [190. 181. 194.]\n",
      "   [189. 179. 195.]\n",
      "   ...\n",
      "   [214. 206. 223.]\n",
      "   [241. 235. 252.]\n",
      "   [222. 216. 233.]]\n",
      "\n",
      "  ...\n",
      "\n",
      "  [[180. 172. 189.]\n",
      "   [177. 169. 186.]\n",
      "   [176. 168. 185.]\n",
      "   ...\n",
      "   [201. 197. 216.]\n",
      "   [202. 198. 217.]\n",
      "   [182. 178. 197.]]\n",
      "\n",
      "  [[180. 173. 188.]\n",
      "   [192. 185. 200.]\n",
      "   [182. 174. 191.]\n",
      "   ...\n",
      "   [232. 228. 247.]\n",
      "   [192. 186. 205.]\n",
      "   [186. 180. 199.]]\n",
      "\n",
      "  [[185. 178. 193.]\n",
      "   [207. 200. 215.]\n",
      "   [187. 179. 196.]\n",
      "   ...\n",
      "   [169. 165. 184.]\n",
      "   [211. 205. 224.]\n",
      "   [182. 176. 195.]]]]\n"
     ]
    }
   ],
   "source": [
    "# load numpy array from npy file\n",
    "from numpy import load\n",
    "# load array\n",
    "x_train = load('./x_train_sample.npy')\n",
    "# print the array\n",
    "print(x_train[:5])"
   ]
  },
  {
   "cell_type": "code",
   "execution_count": 102,
   "id": "7ccc149b",
   "metadata": {},
   "outputs": [],
   "source": [
    "x_test = load('./x_test_sample.npy')\n",
    "y_train = load('./y_train_sample.npy')\n",
    "y_test = load('./y_test_sample.npy')"
   ]
  },
  {
   "cell_type": "markdown",
   "id": "9387f5b5",
   "metadata": {},
   "source": [
    "### Fitting models"
   ]
  },
  {
   "cell_type": "code",
   "execution_count": 104,
   "id": "fcc28f11",
   "metadata": {},
   "outputs": [],
   "source": [
    "from __future__ import print_function\n",
    "import keras\n",
    "from keras.datasets import mnist\n",
    "from keras.models import load_model\n",
    "from keras.models import Sequential\n",
    "from keras.layers import Dense, Dropout, Flatten\n",
    "from keras. layers import Conv2D, MaxPooling2D\n",
    "from keras import backend as K\n",
    "from keras import regularizers\n",
    "\n",
    "import tensorflow  as tf\n",
    "from keras.layers import *\n",
    "from keras.callbacks import ReduceLROnPlateau\n",
    "\n",
    "import matplotlib.pyplot as plt\n",
    "\n",
    "from timeit import default_timer as timer\n"
   ]
  },
  {
   "cell_type": "code",
   "execution_count": 105,
   "id": "9f6a484f",
   "metadata": {},
   "outputs": [],
   "source": [
    "batch_size = 128 # Batch-Size\n",
    "num_classes = 15 # Number of Class\n",
    "epochs = 20 # Number of epoch\n",
    "w_l2 = 1e-5 # Initial"
   ]
  },
  {
   "cell_type": "code",
   "execution_count": 106,
   "id": "2013a6f1",
   "metadata": {},
   "outputs": [],
   "source": [
    "reduce_lr = ReduceLROnPlateau(monitor='val_loss', factor=0.2, patience=5, min_lr=1e-5)"
   ]
  },
  {
   "cell_type": "code",
   "execution_count": 107,
   "id": "11a53e1c",
   "metadata": {},
   "outputs": [],
   "source": [
    "input_shape = (32, 32, 3)"
   ]
  },
  {
   "cell_type": "code",
   "execution_count": 108,
   "id": "16915977",
   "metadata": {},
   "outputs": [
    {
     "name": "stdout",
     "output_type": "stream",
     "text": [
      "Model: \"sequential_7\"\n",
      "_________________________________________________________________\n",
      " Layer (type)                Output Shape              Param #   \n",
      "=================================================================\n",
      " conv2d_12 (Conv2D)          (None, 30, 30, 32)        896       \n",
      "                                                                 \n",
      " batch_normalization_18 (Bat  (None, 30, 30, 32)       128       \n",
      " chNormalization)                                                \n",
      "                                                                 \n",
      " activation_18 (Activation)  (None, 30, 30, 32)        0         \n",
      "                                                                 \n",
      " conv2d_13 (Conv2D)          (None, 28, 28, 64)        18496     \n",
      "                                                                 \n",
      " batch_normalization_19 (Bat  (None, 28, 28, 64)       256       \n",
      " chNormalization)                                                \n",
      "                                                                 \n",
      " activation_19 (Activation)  (None, 28, 28, 64)        0         \n",
      "                                                                 \n",
      " max_pooling2d_6 (MaxPooling  (None, 14, 14, 64)       0         \n",
      " 2D)                                                             \n",
      "                                                                 \n",
      " dropout_12 (Dropout)        (None, 14, 14, 64)        0         \n",
      "                                                                 \n",
      " flatten_6 (Flatten)         (None, 12544)             0         \n",
      "                                                                 \n",
      " dense_12 (Dense)            (None, 128)               1605760   \n",
      "                                                                 \n",
      " batch_normalization_20 (Bat  (None, 128)              512       \n",
      " chNormalization)                                                \n",
      "                                                                 \n",
      " activation_20 (Activation)  (None, 128)               0         \n",
      "                                                                 \n",
      " dropout_13 (Dropout)        (None, 128)               0         \n",
      "                                                                 \n",
      " dense_13 (Dense)            (None, 15)                1935      \n",
      "                                                                 \n",
      "=================================================================\n",
      "Total params: 1,627,983\n",
      "Trainable params: 1,627,535\n",
      "Non-trainable params: 448\n",
      "_________________________________________________________________\n"
     ]
    }
   ],
   "source": [
    "#Sigmoid\n",
    "\n",
    "model = Sequential()\n",
    "model.add(Conv2D(32, kernel_size=(3, 3),  kernel_regularizer=regularizers.l2(w_l2),\n",
    "                 input_shape=input_shape))\n",
    "model.add(BatchNormalization())\n",
    "model.add(Activation('sigmoid'))\n",
    "model.add(Conv2D(64, (3, 3),  kernel_regularizer=regularizers.l2(w_l2)))\n",
    "model.add(BatchNormalization())\n",
    "model.add(Activation('sigmoid'))\n",
    "model.add(MaxPooling2D(pool_size=(2, 2)))\n",
    "model.add(Dropout(0.25))\n",
    "model.add(Flatten())\n",
    "model.add(Dense(128, kernel_regularizer=regularizers.l2(w_l2)))\n",
    "model.add(BatchNormalization())\n",
    "model.add(Activation('sigmoid'))\n",
    "model.add(Dropout(0.5))\n",
    "model.add(Dense(num_classes, activation='softmax'))\n",
    "\n",
    "model.compile(loss=keras.losses.categorical_crossentropy,\n",
    "              optimizer=keras.optimizers.Adam(),\n",
    "              metrics=['accuracy'])\n",
    "model.summary()"
   ]
  },
  {
   "cell_type": "code",
   "execution_count": 109,
   "id": "681472bc",
   "metadata": {
    "scrolled": true
   },
   "outputs": [
    {
     "name": "stdout",
     "output_type": "stream",
     "text": [
      "Epoch 1/20\n",
      "10/10 [==============================] - 11s 931ms/step - loss: 2.7052 - accuracy: 0.1583 - val_loss: 3.5906 - val_accuracy: 0.0800 - lr: 0.0010\n",
      "Epoch 2/20\n",
      "10/10 [==============================] - 8s 795ms/step - loss: 2.1782 - accuracy: 0.3042 - val_loss: 4.0815 - val_accuracy: 0.0667 - lr: 0.0010\n",
      "Epoch 3/20\n",
      "10/10 [==============================] - 9s 871ms/step - loss: 1.9531 - accuracy: 0.3733 - val_loss: 4.3527 - val_accuracy: 0.0667 - lr: 0.0010\n",
      "Epoch 4/20\n",
      "10/10 [==============================] - 7s 732ms/step - loss: 1.8534 - accuracy: 0.4342 - val_loss: 4.4753 - val_accuracy: 0.0667 - lr: 0.0010\n",
      "Epoch 5/20\n",
      "10/10 [==============================] - 7s 750ms/step - loss: 1.7557 - accuracy: 0.4817 - val_loss: 4.5763 - val_accuracy: 0.0667 - lr: 0.0010\n",
      "Epoch 6/20\n",
      "10/10 [==============================] - 8s 783ms/step - loss: 1.6517 - accuracy: 0.5150 - val_loss: 4.7822 - val_accuracy: 0.0667 - lr: 0.0010\n",
      "Epoch 7/20\n",
      "10/10 [==============================] - 8s 799ms/step - loss: 1.6145 - accuracy: 0.5350 - val_loss: 4.4849 - val_accuracy: 0.0667 - lr: 2.0000e-04\n",
      "Epoch 8/20\n",
      "10/10 [==============================] - 8s 764ms/step - loss: 1.6030 - accuracy: 0.5433 - val_loss: 4.3571 - val_accuracy: 0.0667 - lr: 2.0000e-04\n",
      "Epoch 9/20\n",
      "10/10 [==============================] - 8s 812ms/step - loss: 1.5646 - accuracy: 0.5717 - val_loss: 4.2368 - val_accuracy: 0.0667 - lr: 2.0000e-04\n",
      "Epoch 10/20\n",
      "10/10 [==============================] - 8s 826ms/step - loss: 1.5643 - accuracy: 0.5567 - val_loss: 4.0042 - val_accuracy: 0.0667 - lr: 2.0000e-04\n",
      "Epoch 11/20\n",
      "10/10 [==============================] - 8s 796ms/step - loss: 1.5409 - accuracy: 0.5633 - val_loss: 3.8347 - val_accuracy: 0.0667 - lr: 2.0000e-04\n",
      "Epoch 12/20\n",
      "10/10 [==============================] - 8s 758ms/step - loss: 1.5380 - accuracy: 0.5617 - val_loss: 3.5808 - val_accuracy: 0.0667 - lr: 4.0000e-05\n",
      "Epoch 13/20\n",
      "10/10 [==============================] - 8s 817ms/step - loss: 1.5118 - accuracy: 0.5833 - val_loss: 3.3126 - val_accuracy: 0.0667 - lr: 4.0000e-05\n",
      "Epoch 14/20\n",
      "10/10 [==============================] - 10s 967ms/step - loss: 1.5182 - accuracy: 0.5792 - val_loss: 3.0644 - val_accuracy: 0.0667 - lr: 4.0000e-05\n",
      "Epoch 15/20\n",
      "10/10 [==============================] - 10s 958ms/step - loss: 1.4796 - accuracy: 0.5808 - val_loss: 2.8301 - val_accuracy: 0.0667 - lr: 4.0000e-05\n",
      "Epoch 16/20\n",
      "10/10 [==============================] - 8s 769ms/step - loss: 1.5210 - accuracy: 0.5800 - val_loss: 2.6428 - val_accuracy: 0.0700 - lr: 4.0000e-05\n",
      "Epoch 17/20\n",
      "10/10 [==============================] - 8s 833ms/step - loss: 1.5181 - accuracy: 0.5733 - val_loss: 2.4810 - val_accuracy: 0.0867 - lr: 4.0000e-05\n",
      "Epoch 18/20\n",
      "10/10 [==============================] - 8s 768ms/step - loss: 1.5214 - accuracy: 0.5800 - val_loss: 2.3421 - val_accuracy: 0.1133 - lr: 4.0000e-05\n",
      "Epoch 19/20\n",
      "10/10 [==============================] - 8s 840ms/step - loss: 1.5210 - accuracy: 0.5717 - val_loss: 2.2272 - val_accuracy: 0.1800 - lr: 4.0000e-05\n",
      "Epoch 20/20\n",
      "10/10 [==============================] - 8s 825ms/step - loss: 1.5129 - accuracy: 0.5775 - val_loss: 2.1415 - val_accuracy: 0.2667 - lr: 4.0000e-05\n",
      "Test loss: 2.1414568424224854\n",
      "Test accuracy: 0.2666666805744171\n",
      "170.83381490000102\n"
     ]
    }
   ],
   "source": [
    "start = timer()\n",
    "hist_sigmoid=model.fit(x_train, y_train,\n",
    "          batch_size=batch_size,\n",
    "          epochs=epochs,\n",
    "          verbose=1,\n",
    "          validation_data=(x_test, y_test), callbacks=[reduce_lr])\n",
    "end = timer()\n",
    "\n",
    "score = model.evaluate(x_test, y_test, verbose=0)\n",
    "\n",
    "\n",
    "print('Test loss:', score[0])\n",
    "print('Test accuracy:', score[1])\n",
    "\n",
    "time_sigmoid = end - start \n",
    "print('Time to run', time_sigmoid, ' seconds')"
   ]
  },
  {
   "cell_type": "code",
   "execution_count": 112,
   "id": "e81ba2d5",
   "metadata": {},
   "outputs": [
    {
     "name": "stdout",
     "output_type": "stream",
     "text": [
      "Model: \"sequential_9\"\n",
      "_________________________________________________________________\n",
      " Layer (type)                Output Shape              Param #   \n",
      "=================================================================\n",
      " conv2d_16 (Conv2D)          (None, 30, 30, 32)        896       \n",
      "                                                                 \n",
      " batch_normalization_24 (Bat  (None, 30, 30, 32)       128       \n",
      " chNormalization)                                                \n",
      "                                                                 \n",
      " activation_24 (Activation)  (None, 30, 30, 32)        0         \n",
      "                                                                 \n",
      " conv2d_17 (Conv2D)          (None, 28, 28, 64)        18496     \n",
      "                                                                 \n",
      " batch_normalization_25 (Bat  (None, 28, 28, 64)       256       \n",
      " chNormalization)                                                \n",
      "                                                                 \n",
      " activation_25 (Activation)  (None, 28, 28, 64)        0         \n",
      "                                                                 \n",
      " max_pooling2d_8 (MaxPooling  (None, 14, 14, 64)       0         \n",
      " 2D)                                                             \n",
      "                                                                 \n",
      " dropout_16 (Dropout)        (None, 14, 14, 64)        0         \n",
      "                                                                 \n",
      " flatten_8 (Flatten)         (None, 12544)             0         \n",
      "                                                                 \n",
      " dense_16 (Dense)            (None, 128)               1605760   \n",
      "                                                                 \n",
      " batch_normalization_26 (Bat  (None, 128)              512       \n",
      " chNormalization)                                                \n",
      "                                                                 \n",
      " activation_26 (Activation)  (None, 128)               0         \n",
      "                                                                 \n",
      " dropout_17 (Dropout)        (None, 128)               0         \n",
      "                                                                 \n",
      " dense_17 (Dense)            (None, 15)                1935      \n",
      "                                                                 \n",
      "=================================================================\n",
      "Total params: 1,627,983\n",
      "Trainable params: 1,627,535\n",
      "Non-trainable params: 448\n",
      "_________________________________________________________________\n"
     ]
    }
   ],
   "source": [
    "# Hyperbolic tangent \n",
    "\n",
    "model = Sequential()\n",
    "model.add(Conv2D(32, kernel_size=(3, 3),  kernel_regularizer=regularizers.l2(w_l2),\n",
    "                 input_shape=input_shape))\n",
    "model.add(BatchNormalization())\n",
    "model.add(Activation('tanh'))\n",
    "model.add(Conv2D(64, (3, 3),  kernel_regularizer=regularizers.l2(w_l2)))\n",
    "model.add(BatchNormalization())\n",
    "model.add(Activation('tanh'))\n",
    "model.add(MaxPooling2D(pool_size=(2, 2)))\n",
    "model.add(Dropout(0.25))\n",
    "model.add(Flatten())\n",
    "model.add(Dense(128, kernel_regularizer=regularizers.l2(w_l2)))\n",
    "model.add(BatchNormalization())\n",
    "model.add(Activation('tanh'))\n",
    "model.add(Dropout(0.5))\n",
    "model.add(Dense(num_classes, activation='softmax'))\n",
    "\n",
    "model.compile(loss=keras.losses.categorical_crossentropy,\n",
    "              optimizer=keras.optimizers.Adam(),\n",
    "              metrics=['accuracy'])\n",
    "model.summary()"
   ]
  },
  {
   "cell_type": "code",
   "execution_count": 113,
   "id": "255ebc7e",
   "metadata": {},
   "outputs": [
    {
     "name": "stdout",
     "output_type": "stream",
     "text": [
      "Epoch 1/20\n",
      "10/10 [==============================] - 13s 796ms/step - loss: 2.2813 - accuracy: 0.3300 - val_loss: 4.0529 - val_accuracy: 0.0667 - lr: 0.0010\n",
      "Epoch 2/20\n",
      "10/10 [==============================] - 7s 710ms/step - loss: 1.2729 - accuracy: 0.6000 - val_loss: 3.6751 - val_accuracy: 0.1200 - lr: 0.0010\n",
      "Epoch 3/20\n",
      "10/10 [==============================] - 9s 875ms/step - loss: 0.9306 - accuracy: 0.7308 - val_loss: 3.2310 - val_accuracy: 0.1900 - lr: 0.0010\n",
      "Epoch 4/20\n",
      "10/10 [==============================] - 8s 786ms/step - loss: 0.6996 - accuracy: 0.7992 - val_loss: 3.1098 - val_accuracy: 0.2600 - lr: 0.0010\n",
      "Epoch 5/20\n",
      "10/10 [==============================] - 8s 804ms/step - loss: 0.5122 - accuracy: 0.8775 - val_loss: 2.9171 - val_accuracy: 0.3067 - lr: 0.0010\n",
      "Epoch 6/20\n",
      "10/10 [==============================] - 9s 900ms/step - loss: 0.3774 - accuracy: 0.9267 - val_loss: 2.8968 - val_accuracy: 0.3033 - lr: 0.0010\n",
      "Epoch 7/20\n",
      "10/10 [==============================] - 9s 892ms/step - loss: 0.2959 - accuracy: 0.9500 - val_loss: 2.4265 - val_accuracy: 0.3667 - lr: 0.0010\n",
      "Epoch 8/20\n",
      "10/10 [==============================] - 8s 780ms/step - loss: 0.2248 - accuracy: 0.9717 - val_loss: 2.0198 - val_accuracy: 0.4167 - lr: 0.0010\n",
      "Epoch 9/20\n",
      "10/10 [==============================] - 7s 731ms/step - loss: 0.1563 - accuracy: 0.9875 - val_loss: 1.7772 - val_accuracy: 0.4767 - lr: 0.0010\n",
      "Epoch 10/20\n",
      "10/10 [==============================] - 7s 708ms/step - loss: 0.1260 - accuracy: 0.9900 - val_loss: 1.7992 - val_accuracy: 0.4933 - lr: 0.0010\n",
      "Epoch 11/20\n",
      "10/10 [==============================] - 8s 811ms/step - loss: 0.1140 - accuracy: 0.9900 - val_loss: 1.6660 - val_accuracy: 0.4800 - lr: 0.0010\n",
      "Epoch 12/20\n",
      "10/10 [==============================] - 8s 762ms/step - loss: 0.0889 - accuracy: 0.9958 - val_loss: 1.7338 - val_accuracy: 0.5200 - lr: 0.0010\n",
      "Epoch 13/20\n",
      "10/10 [==============================] - 12s 1s/step - loss: 0.0802 - accuracy: 0.9950 - val_loss: 1.4382 - val_accuracy: 0.5333 - lr: 0.0010\n",
      "Epoch 14/20\n",
      "10/10 [==============================] - 12s 1s/step - loss: 0.0641 - accuracy: 0.9992 - val_loss: 1.6397 - val_accuracy: 0.5133 - lr: 0.0010\n",
      "Epoch 15/20\n",
      "10/10 [==============================] - 15s 2s/step - loss: 0.0563 - accuracy: 0.9975 - val_loss: 1.3442 - val_accuracy: 0.5800 - lr: 0.0010\n",
      "Epoch 16/20\n",
      "10/10 [==============================] - 15s 1s/step - loss: 0.0463 - accuracy: 1.0000 - val_loss: 1.3893 - val_accuracy: 0.5767 - lr: 0.0010\n",
      "Epoch 17/20\n",
      "10/10 [==============================] - 15s 1s/step - loss: 0.0431 - accuracy: 0.9992 - val_loss: 1.3392 - val_accuracy: 0.5900 - lr: 0.0010\n",
      "Epoch 18/20\n",
      "10/10 [==============================] - 10s 926ms/step - loss: 0.0400 - accuracy: 0.9975 - val_loss: 1.3794 - val_accuracy: 0.5667 - lr: 0.0010\n",
      "Epoch 19/20\n",
      "10/10 [==============================] - 10s 968ms/step - loss: 0.0381 - accuracy: 1.0000 - val_loss: 1.3144 - val_accuracy: 0.5767 - lr: 0.0010\n",
      "Epoch 20/20\n",
      "10/10 [==============================] - 10s 975ms/step - loss: 0.0331 - accuracy: 1.0000 - val_loss: 1.3888 - val_accuracy: 0.5533 - lr: 0.0010\n",
      "Test loss: 1.3887834548950195\n",
      "Test accuracy: 0.5533333420753479\n",
      "198.63485460000084\n"
     ]
    }
   ],
   "source": [
    "start = timer()\n",
    "\n",
    "hist_tanh=model.fit(x_train, y_train,\n",
    "          batch_size=batch_size,\n",
    "          epochs=epochs,\n",
    "          verbose=1,\n",
    "          validation_data=(x_test, y_test), callbacks=[reduce_lr])\n",
    "\n",
    "end = timer()\n",
    "\n",
    "score = model.evaluate(x_test, y_test, verbose=0)\n",
    "\n",
    "print('Test loss:', score[0])\n",
    "print('Test accuracy:', score[1])\n",
    "\n",
    "time_tanh = end - start \n",
    "print('Time to run', time_tanh, ' seconds')"
   ]
  },
  {
   "cell_type": "code",
   "execution_count": 114,
   "id": "01743d8f",
   "metadata": {},
   "outputs": [
    {
     "name": "stdout",
     "output_type": "stream",
     "text": [
      "Model: \"sequential_10\"\n",
      "_________________________________________________________________\n",
      " Layer (type)                Output Shape              Param #   \n",
      "=================================================================\n",
      " conv2d_18 (Conv2D)          (None, 30, 30, 32)        896       \n",
      "                                                                 \n",
      " batch_normalization_27 (Bat  (None, 30, 30, 32)       128       \n",
      " chNormalization)                                                \n",
      "                                                                 \n",
      " activation_27 (Activation)  (None, 30, 30, 32)        0         \n",
      "                                                                 \n",
      " conv2d_19 (Conv2D)          (None, 28, 28, 64)        18496     \n",
      "                                                                 \n",
      " batch_normalization_28 (Bat  (None, 28, 28, 64)       256       \n",
      " chNormalization)                                                \n",
      "                                                                 \n",
      " activation_28 (Activation)  (None, 28, 28, 64)        0         \n",
      "                                                                 \n",
      " max_pooling2d_9 (MaxPooling  (None, 14, 14, 64)       0         \n",
      " 2D)                                                             \n",
      "                                                                 \n",
      " dropout_18 (Dropout)        (None, 14, 14, 64)        0         \n",
      "                                                                 \n",
      " flatten_9 (Flatten)         (None, 12544)             0         \n",
      "                                                                 \n",
      " dense_18 (Dense)            (None, 128)               1605760   \n",
      "                                                                 \n",
      " batch_normalization_29 (Bat  (None, 128)              512       \n",
      " chNormalization)                                                \n",
      "                                                                 \n",
      " activation_29 (Activation)  (None, 128)               0         \n",
      "                                                                 \n",
      " dropout_19 (Dropout)        (None, 128)               0         \n",
      "                                                                 \n",
      " dense_19 (Dense)            (None, 15)                1935      \n",
      "                                                                 \n",
      "=================================================================\n",
      "Total params: 1,627,983\n",
      "Trainable params: 1,627,535\n",
      "Non-trainable params: 448\n",
      "_________________________________________________________________\n"
     ]
    }
   ],
   "source": [
    "# Relu\n",
    "\n",
    "model = Sequential()\n",
    "model.add(Conv2D(32, kernel_size=(3, 3),  kernel_regularizer=regularizers.l2(w_l2),\n",
    "                 input_shape=input_shape))\n",
    "model.add(BatchNormalization())\n",
    "model.add(Activation('relu'))\n",
    "model.add(Conv2D(64, (3, 3),  kernel_regularizer=regularizers.l2(w_l2)))\n",
    "model.add(BatchNormalization())\n",
    "model.add(Activation('relu'))\n",
    "model.add(MaxPooling2D(pool_size=(2, 2)))\n",
    "model.add(Dropout(0.25))\n",
    "model.add(Flatten())\n",
    "model.add(Dense(128, kernel_regularizer=regularizers.l2(w_l2)))\n",
    "model.add(BatchNormalization())\n",
    "model.add(Activation('relu'))\n",
    "model.add(Dropout(0.5))\n",
    "model.add(Dense(num_classes, activation='softmax'))\n",
    "\n",
    "model.compile(loss=keras.losses.categorical_crossentropy,\n",
    "              optimizer=keras.optimizers.Adam(),\n",
    "              metrics=['accuracy'])\n",
    "model.summary()"
   ]
  },
  {
   "cell_type": "code",
   "execution_count": 115,
   "id": "587a24c8",
   "metadata": {},
   "outputs": [
    {
     "name": "stdout",
     "output_type": "stream",
     "text": [
      "Epoch 1/20\n",
      "10/10 [==============================] - 12s 737ms/step - loss: 2.4700 - accuracy: 0.2542 - val_loss: 36.9942 - val_accuracy: 0.0700 - lr: 0.0010\n",
      "Epoch 2/20\n",
      "10/10 [==============================] - 6s 635ms/step - loss: 1.4170 - accuracy: 0.5783 - val_loss: 25.6582 - val_accuracy: 0.0667 - lr: 0.0010\n",
      "Epoch 3/20\n",
      "10/10 [==============================] - 6s 637ms/step - loss: 1.0043 - accuracy: 0.7158 - val_loss: 15.7006 - val_accuracy: 0.1000 - lr: 0.0010\n",
      "Epoch 4/20\n",
      "10/10 [==============================] - 7s 680ms/step - loss: 0.7671 - accuracy: 0.8008 - val_loss: 10.8568 - val_accuracy: 0.0867 - lr: 0.0010\n",
      "Epoch 5/20\n",
      "10/10 [==============================] - 7s 693ms/step - loss: 0.5950 - accuracy: 0.8592 - val_loss: 6.9710 - val_accuracy: 0.1267 - lr: 0.0010\n",
      "Epoch 6/20\n",
      "10/10 [==============================] - 8s 759ms/step - loss: 0.4601 - accuracy: 0.9083 - val_loss: 3.8932 - val_accuracy: 0.2033 - lr: 0.0010\n",
      "Epoch 7/20\n",
      "10/10 [==============================] - 9s 869ms/step - loss: 0.3805 - accuracy: 0.9325 - val_loss: 3.0434 - val_accuracy: 0.2333 - lr: 0.0010\n",
      "Epoch 8/20\n",
      "10/10 [==============================] - 8s 825ms/step - loss: 0.2907 - accuracy: 0.9650 - val_loss: 2.6365 - val_accuracy: 0.3100 - lr: 0.0010\n",
      "Epoch 9/20\n",
      "10/10 [==============================] - 8s 759ms/step - loss: 0.2571 - accuracy: 0.9625 - val_loss: 2.1933 - val_accuracy: 0.4000 - lr: 0.0010\n",
      "Epoch 10/20\n",
      "10/10 [==============================] - 7s 737ms/step - loss: 0.2225 - accuracy: 0.9767 - val_loss: 1.8250 - val_accuracy: 0.4667 - lr: 0.0010\n",
      "Epoch 11/20\n",
      "10/10 [==============================] - 7s 718ms/step - loss: 0.1639 - accuracy: 0.9883 - val_loss: 2.0017 - val_accuracy: 0.4567 - lr: 0.0010\n",
      "Epoch 12/20\n",
      "10/10 [==============================] - 8s 799ms/step - loss: 0.1456 - accuracy: 0.9900 - val_loss: 1.6413 - val_accuracy: 0.5200 - lr: 0.0010\n",
      "Epoch 13/20\n",
      "10/10 [==============================] - 12s 1s/step - loss: 0.1246 - accuracy: 0.9917 - val_loss: 1.5342 - val_accuracy: 0.5567 - lr: 0.0010\n",
      "Epoch 14/20\n",
      "10/10 [==============================] - 14s 1s/step - loss: 0.1182 - accuracy: 0.9900 - val_loss: 1.4342 - val_accuracy: 0.5867 - lr: 0.0010\n",
      "Epoch 15/20\n",
      "10/10 [==============================] - 10s 1s/step - loss: 0.1027 - accuracy: 0.9917 - val_loss: 1.3276 - val_accuracy: 0.5867 - lr: 0.0010\n",
      "Epoch 16/20\n",
      "10/10 [==============================] - 8s 836ms/step - loss: 0.0961 - accuracy: 0.9950 - val_loss: 1.3703 - val_accuracy: 0.6033 - lr: 0.0010\n",
      "Epoch 17/20\n",
      "10/10 [==============================] - 9s 902ms/step - loss: 0.0853 - accuracy: 0.9992 - val_loss: 1.3929 - val_accuracy: 0.5500 - lr: 0.0010\n",
      "Epoch 18/20\n",
      "10/10 [==============================] - 17s 2s/step - loss: 0.0790 - accuracy: 0.9967 - val_loss: 1.2417 - val_accuracy: 0.5933 - lr: 0.0010\n",
      "Epoch 19/20\n",
      "10/10 [==============================] - 10s 1s/step - loss: 0.0771 - accuracy: 0.9958 - val_loss: 1.1446 - val_accuracy: 0.6333 - lr: 0.0010\n",
      "Epoch 20/20\n",
      "10/10 [==============================] - 10s 986ms/step - loss: 0.0658 - accuracy: 0.9983 - val_loss: 1.2201 - val_accuracy: 0.6067 - lr: 0.0010\n",
      "Test loss: 1.2201035022735596\n",
      "Test accuracy: 0.6066666841506958\n",
      "189.0206191999987\n"
     ]
    }
   ],
   "source": [
    "start = timer()\n",
    "\n",
    "hist_relu=model.fit(x_train, y_train,\n",
    "          batch_size=batch_size,\n",
    "          epochs=epochs,\n",
    "          verbose=1,\n",
    "          validation_data=(x_test, y_test), callbacks=[reduce_lr])\n",
    "end = timer()\n",
    "\n",
    "score = model.evaluate(x_test, y_test, verbose=0)\n",
    "\n",
    "print('Test loss:', score[0])\n",
    "print('Test accuracy:', score[1])\n",
    "\n",
    "time_relu = end - start \n",
    "print('Time to run', time_relu, ' seconds')"
   ]
  },
  {
   "cell_type": "code",
   "execution_count": 116,
   "id": "8455487c",
   "metadata": {},
   "outputs": [],
   "source": [
    "# Swish \n",
    "\n",
    "def swish(x):\n",
    "    return x * K.sigmoid(x)\n",
    "    # return x * (1/(1 + K.exp(-x)))"
   ]
  },
  {
   "cell_type": "code",
   "execution_count": 117,
   "id": "bee57e49",
   "metadata": {},
   "outputs": [
    {
     "name": "stdout",
     "output_type": "stream",
     "text": [
      "Model: \"sequential_11\"\n",
      "_________________________________________________________________\n",
      " Layer (type)                Output Shape              Param #   \n",
      "=================================================================\n",
      " conv2d_20 (Conv2D)          (None, 30, 30, 32)        896       \n",
      "                                                                 \n",
      " batch_normalization_30 (Bat  (None, 30, 30, 32)       128       \n",
      " chNormalization)                                                \n",
      "                                                                 \n",
      " activation_30 (Activation)  (None, 30, 30, 32)        0         \n",
      "                                                                 \n",
      " conv2d_21 (Conv2D)          (None, 28, 28, 64)        18496     \n",
      "                                                                 \n",
      " batch_normalization_31 (Bat  (None, 28, 28, 64)       256       \n",
      " chNormalization)                                                \n",
      "                                                                 \n",
      " activation_31 (Activation)  (None, 28, 28, 64)        0         \n",
      "                                                                 \n",
      " max_pooling2d_10 (MaxPoolin  (None, 14, 14, 64)       0         \n",
      " g2D)                                                            \n",
      "                                                                 \n",
      " dropout_20 (Dropout)        (None, 14, 14, 64)        0         \n",
      "                                                                 \n",
      " flatten_10 (Flatten)        (None, 12544)             0         \n",
      "                                                                 \n",
      " dense_20 (Dense)            (None, 128)               1605760   \n",
      "                                                                 \n",
      " batch_normalization_32 (Bat  (None, 128)              512       \n",
      " chNormalization)                                                \n",
      "                                                                 \n",
      " activation_32 (Activation)  (None, 128)               0         \n",
      "                                                                 \n",
      " dropout_21 (Dropout)        (None, 128)               0         \n",
      "                                                                 \n",
      " dense_21 (Dense)            (None, 15)                1935      \n",
      "                                                                 \n",
      "=================================================================\n",
      "Total params: 1,627,983\n",
      "Trainable params: 1,627,535\n",
      "Non-trainable params: 448\n",
      "_________________________________________________________________\n"
     ]
    }
   ],
   "source": [
    "model = Sequential()\n",
    "model.add(Conv2D(32, kernel_size=(3, 3), kernel_regularizer=regularizers.l2(w_l2),\n",
    "                 input_shape=input_shape, kernel_initializer='he_normal'))\n",
    "model.add(BatchNormalization())\n",
    "model.add(Activation(swish))\n",
    "model.add(Conv2D(64, (3, 3), kernel_regularizer=regularizers.l2(w_l2), kernel_initializer='he_normal'))\n",
    "model.add(BatchNormalization())\n",
    "model.add(Activation(swish))\n",
    "model.add(MaxPooling2D(pool_size=(2, 2)))\n",
    "model.add(Dropout(0.25))\n",
    "model.add(Flatten())\n",
    "model.add(Dense(128, kernel_regularizer=regularizers.l2(w_l2), kernel_initializer='he_normal'))\n",
    "model.add(BatchNormalization())\n",
    "model.add(Activation(swish))\n",
    "model.add(Dropout(0.5))\n",
    "model.add(Dense(num_classes, activation='softmax'))\n",
    "\n",
    "model.compile(loss=keras.losses.categorical_crossentropy,\n",
    "              optimizer=keras.optimizers.Adam(),\n",
    "              metrics=['accuracy'])\n",
    "\n",
    "model.summary()"
   ]
  },
  {
   "cell_type": "code",
   "execution_count": 118,
   "id": "0ac40a4f",
   "metadata": {},
   "outputs": [
    {
     "name": "stdout",
     "output_type": "stream",
     "text": [
      "Epoch 1/20\n",
      "10/10 [==============================] - 17s 1s/step - loss: 2.3467 - accuracy: 0.3017 - val_loss: 76.6252 - val_accuracy: 0.0767 - lr: 0.0010\n",
      "Epoch 2/20\n",
      "10/10 [==============================] - 9s 875ms/step - loss: 1.4368 - accuracy: 0.5592 - val_loss: 30.1274 - val_accuracy: 0.1267 - lr: 0.0010\n",
      "Epoch 3/20\n",
      "10/10 [==============================] - 9s 937ms/step - loss: 1.0577 - accuracy: 0.6958 - val_loss: 14.8684 - val_accuracy: 0.1200 - lr: 0.0010\n",
      "Epoch 4/20\n",
      "10/10 [==============================] - 9s 923ms/step - loss: 0.8129 - accuracy: 0.7967 - val_loss: 8.8604 - val_accuracy: 0.1500 - lr: 0.0010\n",
      "Epoch 5/20\n",
      "10/10 [==============================] - 9s 884ms/step - loss: 0.6046 - accuracy: 0.8658 - val_loss: 5.4774 - val_accuracy: 0.2367 - lr: 0.0010\n",
      "Epoch 6/20\n",
      "10/10 [==============================] - 9s 886ms/step - loss: 0.4438 - accuracy: 0.9233 - val_loss: 4.5389 - val_accuracy: 0.2067 - lr: 0.0010\n",
      "Epoch 7/20\n",
      "10/10 [==============================] - 9s 865ms/step - loss: 0.3302 - accuracy: 0.9617 - val_loss: 3.0197 - val_accuracy: 0.3400 - lr: 0.0010\n",
      "Epoch 8/20\n",
      "10/10 [==============================] - 8s 838ms/step - loss: 0.2505 - accuracy: 0.9850 - val_loss: 2.5745 - val_accuracy: 0.3667 - lr: 0.0010\n",
      "Epoch 9/20\n",
      "10/10 [==============================] - 9s 858ms/step - loss: 0.2105 - accuracy: 0.9867 - val_loss: 2.2980 - val_accuracy: 0.4000 - lr: 0.0010\n",
      "Epoch 10/20\n",
      "10/10 [==============================] - 9s 877ms/step - loss: 0.1596 - accuracy: 0.9950 - val_loss: 1.9904 - val_accuracy: 0.4367 - lr: 0.0010\n",
      "Epoch 11/20\n",
      "10/10 [==============================] - 9s 880ms/step - loss: 0.1351 - accuracy: 0.9933 - val_loss: 1.9809 - val_accuracy: 0.4333 - lr: 0.0010\n",
      "Epoch 12/20\n",
      "10/10 [==============================] - 8s 821ms/step - loss: 0.1179 - accuracy: 0.9958 - val_loss: 1.7869 - val_accuracy: 0.5000 - lr: 0.0010\n",
      "Epoch 13/20\n",
      "10/10 [==============================] - 9s 906ms/step - loss: 0.0951 - accuracy: 0.9983 - val_loss: 1.6427 - val_accuracy: 0.5300 - lr: 0.0010\n",
      "Epoch 14/20\n",
      "10/10 [==============================] - 8s 819ms/step - loss: 0.0892 - accuracy: 0.9967 - val_loss: 1.4882 - val_accuracy: 0.5633 - lr: 0.0010\n",
      "Epoch 15/20\n",
      "10/10 [==============================] - 9s 865ms/step - loss: 0.0683 - accuracy: 0.9983 - val_loss: 1.4153 - val_accuracy: 0.5933 - lr: 0.0010\n",
      "Epoch 16/20\n",
      "10/10 [==============================] - 8s 848ms/step - loss: 0.0646 - accuracy: 1.0000 - val_loss: 1.3476 - val_accuracy: 0.6067 - lr: 0.0010\n",
      "Epoch 17/20\n",
      "10/10 [==============================] - 10s 994ms/step - loss: 0.0591 - accuracy: 0.9992 - val_loss: 1.3670 - val_accuracy: 0.6100 - lr: 0.0010\n",
      "Epoch 18/20\n",
      "10/10 [==============================] - 9s 901ms/step - loss: 0.0507 - accuracy: 1.0000 - val_loss: 1.3022 - val_accuracy: 0.6100 - lr: 0.0010\n",
      "Epoch 19/20\n",
      "10/10 [==============================] - 8s 844ms/step - loss: 0.0543 - accuracy: 1.0000 - val_loss: 1.3081 - val_accuracy: 0.6000 - lr: 0.0010\n",
      "Epoch 20/20\n",
      "10/10 [==============================] - 8s 859ms/step - loss: 0.0437 - accuracy: 1.0000 - val_loss: 1.2690 - val_accuracy: 0.6133 - lr: 0.0010\n",
      "Test loss: 1.2689725160598755\n",
      "Test accuracy: 0.6133333444595337\n",
      "183.1533229000015\n"
     ]
    }
   ],
   "source": [
    "start = timer()\n",
    "\n",
    "hist_swish=model.fit(x_train, y_train,\n",
    "          batch_size=batch_size,\n",
    "          epochs=epochs,\n",
    "          verbose=1,\n",
    "          validation_data=(x_test, y_test), callbacks=[reduce_lr])\n",
    "\n",
    "end = timer()\n",
    "\n",
    "score = model.evaluate(x_test, y_test, verbose=0)\n",
    "\n",
    "print('Test loss:', score[0])\n",
    "print('Test accuracy:', score[1])\n",
    "\n",
    "time_swish = end - start \n",
    "print('Time to run', time_swish, ' seconds')"
   ]
  },
  {
   "cell_type": "markdown",
   "id": "a94404f3",
   "metadata": {},
   "source": [
    "### Results"
   ]
  },
  {
   "cell_type": "code",
   "execution_count": 119,
   "id": "cd0b2d06",
   "metadata": {},
   "outputs": [],
   "source": [
    "def plot_history(hists, attribute='val_loss', axis=(-1,21,0.85,0.94), loc='lower right'):\n",
    "    title = {'val_loss': 'valid. loss', 'loss': 'trn. loss', 'val_accuracy': 'valid. accuracy', 'accuracy': 'trn. accuracy'}\n",
    "    num_hists = len(hists)\n",
    "    \n",
    "    plt.figure(figsize=(12, 8))  \n",
    "    plt.axis(axis)\n",
    "    for i in range(num_hists):\n",
    "        plt.plot(hists[i].history[attribute])\n",
    "    plt.title(title[attribute])  \n",
    "    plt.ylabel(title[attribute])  \n",
    "    plt.xlabel('epoch')  \n",
    "    plt.legend(['Sigmoid', 'tanh', 'ReLU', 'Swish'], loc=loc)  \n",
    "\n",
    "    plt.show()"
   ]
  },
  {
   "cell_type": "code",
   "execution_count": 120,
   "id": "004eb7d4",
   "metadata": {},
   "outputs": [],
   "source": [
    "hists = [hist_sigmoid, hist_tanh, hist_relu, hist_swish]"
   ]
  },
  {
   "cell_type": "code",
   "execution_count": 121,
   "id": "eb337e4d",
   "metadata": {},
   "outputs": [
    {
     "name": "stdout",
     "output_type": "stream",
     "text": [
      "dict_keys(['loss', 'accuracy', 'val_loss', 'val_accuracy', 'lr'])\n"
     ]
    }
   ],
   "source": [
    "history_dict = hist_sigmoid.history\n",
    "print(history_dict.keys())"
   ]
  },
  {
   "cell_type": "code",
   "execution_count": 122,
   "id": "d4e56924",
   "metadata": {},
   "outputs": [
    {
     "data": {
      "image/png": "[encoded data removed]",
      "text/plain": [
       "<Figure size 864x576 with 1 Axes>"
      ]
     },
     "metadata": {
      "needs_background": "light"
     },
     "output_type": "display_data"
    }
   ],
   "source": [
    "# Validation accuracy\n",
    "plot_history(hists, attribute='val_accuracy',axis=(-1,21,0.0,1.2), loc='lower right')"
   ]
  },
  {
   "cell_type": "code",
   "execution_count": 123,
   "id": "19c40c28",
   "metadata": {},
   "outputs": [
    {
     "data": {
      "image/png": "[encoded data removed]",
      "text/plain": [
       "<Figure size 864x576 with 1 Axes>"
      ]
     },
     "metadata": {
      "needs_background": "light"
     },
     "output_type": "display_data"
    }
   ],
   "source": [
    "# train accuracy\n",
    "plot_history(hists, attribute='accuracy', axis=(-1,21,0.0,1.2), loc='lower right')"
   ]
  },
  {
   "cell_type": "code",
   "execution_count": 124,
   "id": "25cdab49",
   "metadata": {},
   "outputs": [
    {
     "data": {
      "image/png": "[encoded data removed]",
      "text/plain": [
       "<Figure size 864x576 with 1 Axes>"
      ]
     },
     "metadata": {
      "needs_background": "light"
     },
     "output_type": "display_data"
    }
   ],
   "source": [
    "plot_history(hists, attribute='val_loss', axis=(-1,21,0.0,5), loc='upper right')"
   ]
  },
  {
   "cell_type": "code",
   "execution_count": 125,
   "id": "5d522587",
   "metadata": {
    "scrolled": true
   },
   "outputs": [
    {
     "data": {
      "image/png": "[encoded data removed]",
      "text/plain": [
       "<Figure size 864x576 with 1 Axes>"
      ]
     },
     "metadata": {
      "needs_background": "light"
     },
     "output_type": "display_data"
    }
   ],
   "source": [
    "plot_history(hists, attribute='loss', axis=(-1,21,0.00,3), loc='upper right')"
   ]
  },
  {
   "cell_type": "code",
   "execution_count": 126,
   "id": "18f5dcf4",
   "metadata": {},
   "outputs": [],
   "source": [
    "times = [time_sigmoid, time_tanh, time_relu, time_swish]"
   ]
  },
  {
   "cell_type": "code",
   "execution_count": 136,
   "id": "bb11a04e",
   "metadata": {},
   "outputs": [
    {
     "name": "stdout",
     "output_type": "stream",
     "text": [
      "[0.2666666805744171, 0.5533333420753479, 0.6066666841506958, 0.6133333444595337]\n"
     ]
    }
   ],
   "source": [
    "final_val_accuracy = []\n",
    "\n",
    "for i in range(4):\n",
    "    final_val_accuracy.append(hists[i].history['val_accuracy'][19])\n",
    "    \n",
    "print(final_val_accuracy)"
   ]
  },
  {
   "cell_type": "code",
   "execution_count": 138,
   "id": "202e3a40",
   "metadata": {},
   "outputs": [
    {
     "data": {
      "text/plain": [
       "<Figure size 432x288 with 0 Axes>"
      ]
     },
     "metadata": {},
     "output_type": "display_data"
    }
   ],
   "source": [
    "fig = plt.figure()\n",
    "ax = fig.add_axes([0,0,1,1])\n",
    "ax.bar(final_val_accuracy,times)\n",
    "plt.show()"
   ]
  },
  {
   "cell_type": "code",
   "execution_count": 141,
   "id": "336860ab",
   "metadata": {},
   "outputs": [
    {
     "data": {
      "text/plain": [
       "Text(0, 0.5, 'Validation accuracy')"
      ]
     },
     "execution_count": 141,
     "metadata": {},
     "output_type": "execute_result"
    },
    {
     "data": {
      "image/png": "[encoded data removed]",
      "text/plain": [
       "<Figure size 432x288 with 1 Axes>"
      ]
     },
     "metadata": {
      "needs_background": "light"
     },
     "output_type": "display_data"
    }
   ],
   "source": [
    "\n",
    "n = ['Sigmoid', 'Tanh', 'Relu', 'Swish']\n",
    "\n",
    "fig, ax = plt.subplots()\n",
    "ax.scatter(times, final_val_accuracy)\n",
    "\n",
    "for i, txt in enumerate(n):\n",
    "    ax.annotate(txt, (times[i], final_val_accuracy[i]))\n",
    "    \n",
    "plt.title(\"Final Validation accuracy and runtime\")\n",
    "plt.xlabel(\"Time (seconds)\")\n",
    "plt.ylabel(\"Validation accuracy\")"
   ]
  },
  {
   "cell_type": "markdown",
   "id": "f6cc17b3",
   "metadata": {},
   "source": [
    "### References \n",
    "\n",
    "1. https://towardsdatascience.com/comparison-of-activation-functions-for-deep-neural-networks-706ac4284c8a"
   ]
  }
 ],
 "metadata": {
  "kernelspec": {
   "display_name": "Python 3 (ipykernel)",
   "language": "python",
   "name": "python3"
  },
  "language_info": {
   "codemirror_mode": {
    "name": "ipython",
    "version": 3
   },
   "file_extension": ".py",
   "mimetype": "text/x-python",
   "name": "python",
   "nbconvert_exporter": "python",
   "pygments_lexer": "ipython3",
   "version": "3.9.12"
  }
 },
 "nbformat": 4,
 "nbformat_minor": 5
}
