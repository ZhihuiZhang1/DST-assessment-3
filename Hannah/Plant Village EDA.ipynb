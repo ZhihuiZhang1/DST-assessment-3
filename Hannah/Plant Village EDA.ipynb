{
 "cells": [
  {
   "cell_type": "markdown",
   "id": "a1e2c303",
   "metadata": {},
   "source": [
    "# Plant Village data\n",
    "\n",
    "### Data Import"
   ]
  },
  {
   "cell_type": "code",
   "execution_count": 2,
   "id": "942f2fd8",
   "metadata": {},
   "outputs": [],
   "source": [
    "import numpy as np \n",
    "import pandas as pd\n"
   ]
  },
  {
   "cell_type": "code",
   "execution_count": 3,
   "id": "0185cbc1",
   "metadata": {},
   "outputs": [],
   "source": [
    "#directory_root = '../Data'\n",
    "#image_list, label_list = [], []\n",
    "#try:\n",
    "#    print(\"[INFO] Loading images ...\")\n",
    "#    root_dir = listdir(directory_root)\n",
    "#    for directory in root_dir :\n",
    "        # remove .DS_Store from list\n",
    "#        if directory == \".DS_Store\" :\n",
    "#            root_dir.remove(directory)\n",
    "\n",
    "#    for plant_folder in root_dir :\n",
    "#        plant_disease_folder_list = listdir(f\"{directory_root}/{plant_folder}\")\n",
    "        \n",
    "#        for disease_folder in plant_disease_folder_list :\n",
    "            # remove .DS_Store from list\n",
    "#            if disease_folder == \".DS_Store\" :\n",
    "#                plant_disease_folder_list.remove(disease_folder)\n",
    "\n",
    "#        for plant_disease_folder in plant_disease_folder_list:\n",
    "#            print(f\"[INFO] Processing {plant_disease_folder} ...\")\n",
    "#            plant_disease_image_list = listdir(f\"{directory_root}/{plant_folder}/{plant_disease_folder}/\")\n",
    "                \n",
    "#            for single_plant_disease_image in plant_disease_image_list :\n",
    "#                if single_plant_disease_image == \".DS_Store\" :\n",
    "#                    plant_disease_image_list.remove(single_plant_disease_image)\n",
    "\n",
    "#            for image in plant_disease_image_list[:200]:\n",
    "#                image_directory = f\"{directory_root}/{plant_folder}/{plant_disease_folder}/{image}\"\n",
    "#                if image_directory.endswith(\".jpg\") == True or image_directory.endswith(\".JPG\") == True:\n",
    "#                    image_list.append(image_directory)\n",
    "#                    label_list.append(plant_disease_folder)\n",
    "#    print(\"[INFO] Image loading completed\")  \n",
    "#except Exception as e:\n",
    "#    print(f\"Error : {e}\")"
   ]
  },
  {
   "cell_type": "code",
   "execution_count": null,
   "id": "2d0f2185",
   "metadata": {},
   "outputs": [],
   "source": [
    "import numpy as np # linear algebra\n",
    "import pandas as pd # data processing, CSV file I/O (e.g. pd.read_csv)\n",
    "from PIL import Image\n",
    "import cv2 as cv\n",
    "\n",
    "import os\n",
    "\n",
    "Xtrain = []\n",
    "ytrain = []\n",
    "\n",
    "for dirname, _, filenames in os.walk('/kaggle/input/'):\n",
    "    for filename in filenames[:100]:\n",
    "        img = cv.imread(os.path.join(dirname,filename))\n",
    "        index = dirname.rindex('/')\n",
    "        try:\n",
    "            img = cv.resize(img, (256, 256))\n",
    "            Xtrain.append(img)\n",
    "            ytrain.append(dirname[index + 1: ])\n",
    "        except :\n",
    "            pass\n",
    "        "
   ]
  }
 ],
 "metadata": {
  "kernelspec": {
   "display_name": "Python 3 (ipykernel)",
   "language": "python",
   "name": "python3"
  },
  "language_info": {
   "codemirror_mode": {
    "name": "ipython",
    "version": 3
   },
   "file_extension": ".py",
   "mimetype": "text/x-python",
   "name": "python",
   "nbconvert_exporter": "python",
   "pygments_lexer": "ipython3",
   "version": "3.9.12"
  }
 },
 "nbformat": 4,
 "nbformat_minor": 5
}
