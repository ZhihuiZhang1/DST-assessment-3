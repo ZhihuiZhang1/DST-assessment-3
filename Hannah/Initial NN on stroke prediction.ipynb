{
 "cells": [
  {
   "cell_type": "markdown",
   "id": "685444bc",
   "metadata": {},
   "source": [
    "# Stroke Prediction Neural Network\n",
    "\n",
    "Initial try at implementing a Neural Network on the stroke prediction dataset.\n",
    "\n",
    "### Preliminaries "
   ]
  },
  {
   "cell_type": "code",
   "execution_count": 1,
   "id": "27262b22",
   "metadata": {},
   "outputs": [],
   "source": [
    "import pandas as pd\n",
    "import numpy as np\n",
    "import matplotlib.pyplot as plt\n",
    "from keras.models import Sequential\n",
    "from keras.layers import Dense\n",
    "from keras import optimizers\n",
    "import math\n",
    "import matplotlib.pyplot as plt\n",
    "import numpy as np\n",
    "from sklearn.model_selection import train_test_split \n",
    "from sklearn.preprocessing import OneHotEncoder, StandardScaler #data preprocessing\n",
    "from sklearn.compose import ColumnTransformer #data preprocessing\n",
    "from tensorflow.keras import layers, models #neural network architecture\n",
    "from tensorflow.keras.callbacks import EarlyStopping #regularization\n",
    "from tensorflow.keras.wrappers.scikit_learn import KerasClassifier\n",
    "from tensorflow import keras #keras\n",
    "import tensorflow as tf #tensorflow\n",
    "from sklearn.metrics import accuracy_score, recall_score ,precision_score, f1_score#evaluate model\n"
   ]
  },
  {
   "cell_type": "code",
   "execution_count": null,
   "id": "f37f91d6",
   "metadata": {
    "scrolled": false
   },
   "outputs": [],
   "source": []
  },
  {
   "cell_type": "code",
   "execution_count": 2,
   "id": "ae4b764a",
   "metadata": {},
   "outputs": [],
   "source": [
    "# Import necessary libraries\n",
    "import pandas as pd\n",
    "import numpy as np                               # Import numpy\n",
    "from skimage import data, io   # Import skimage library (data - Test images and example data.\n",
    "#                          io - Reading, saving, and displaying images.)\n",
    "from skimage.color import rgb2gray\n",
    "import matplotlib.pyplot as plt                  # Import matplotlib.pyplot (Plotting framework in Python.)\n",
    "%matplotlib inline\n",
    "import os                                        # This module provides a portable way of using operating system dependent functionality.\n",
    "os.environ['TF_CPP_MIN_LOG_LEVEL'] = '3'\n",
    "import warnings\n",
    "# Suppress warnings\n",
    "warnings.filterwarnings('ignore')\n",
    "from IPython.display import display\n",
    "\n",
    "from sklearn.metrics import confusion_matrix\n",
    "from sklearn.model_selection import train_test_split\n",
    "from tensorflow.keras import utils\n",
    "from tensorflow.keras.models import Sequential,load_model\n",
    "from tensorflow.keras.layers import Dense, Dropout, Flatten, Conv2D, MaxPool2D, BatchNormalization\n",
    "from tensorflow.keras.optimizers import Adam\n",
    "import tensorflow as tf\n",
    "import seaborn as sns"
   ]
  },
  {
   "cell_type": "markdown",
   "id": "faf897be",
   "metadata": {},
   "source": [
    "### Data Import "
   ]
  },
  {
   "cell_type": "code",
   "execution_count": 3,
   "id": "fae7a929",
   "metadata": {},
   "outputs": [
    {
     "data": {
      "text/html": [
       "<div>\n",
       "<style scoped>\n",
       "    .dataframe tbody tr th:only-of-type {\n",
       "        vertical-align: middle;\n",
       "    }\n",
       "\n",
       "    .dataframe tbody tr th {\n",
       "        vertical-align: top;\n",
       "    }\n",
       "\n",
       "    .dataframe thead th {\n",
       "        text-align: right;\n",
       "    }\n",
       "</style>\n",
       "<table border=\"1\" class=\"dataframe\">\n",
       "  <thead>\n",
       "    <tr style=\"text-align: right;\">\n",
       "      <th></th>\n",
       "      <th>Unnamed: 0</th>\n",
       "      <th>level_0</th>\n",
       "      <th>index</th>\n",
       "      <th>age</th>\n",
       "      <th>hypertension</th>\n",
       "      <th>heart_disease</th>\n",
       "      <th>avg_glucose_level</th>\n",
       "      <th>bmi</th>\n",
       "      <th>stroke</th>\n",
       "      <th>gender_Female</th>\n",
       "      <th>ever_married_Yes</th>\n",
       "      <th>work_type_Govt_job</th>\n",
       "      <th>work_type_Never_worked</th>\n",
       "      <th>work_type_Private</th>\n",
       "      <th>work_type_Self-employed</th>\n",
       "      <th>Residence_type_Urban</th>\n",
       "      <th>smoking_status_formerly smoked</th>\n",
       "      <th>smoking_status_never smoked</th>\n",
       "    </tr>\n",
       "  </thead>\n",
       "  <tbody>\n",
       "    <tr>\n",
       "      <th>0</th>\n",
       "      <td>0</td>\n",
       "      <td>3262</td>\n",
       "      <td>3263</td>\n",
       "      <td>75.0</td>\n",
       "      <td>1</td>\n",
       "      <td>0</td>\n",
       "      <td>91.85</td>\n",
       "      <td>21.4</td>\n",
       "      <td>0</td>\n",
       "      <td>1</td>\n",
       "      <td>0</td>\n",
       "      <td>0</td>\n",
       "      <td>0</td>\n",
       "      <td>0</td>\n",
       "      <td>1</td>\n",
       "      <td>0</td>\n",
       "      <td>1</td>\n",
       "      <td>0</td>\n",
       "    </tr>\n",
       "    <tr>\n",
       "      <th>1</th>\n",
       "      <td>1</td>\n",
       "      <td>3267</td>\n",
       "      <td>3268</td>\n",
       "      <td>2.0</td>\n",
       "      <td>0</td>\n",
       "      <td>0</td>\n",
       "      <td>99.75</td>\n",
       "      <td>16.0</td>\n",
       "      <td>0</td>\n",
       "      <td>1</td>\n",
       "      <td>0</td>\n",
       "      <td>0</td>\n",
       "      <td>0</td>\n",
       "      <td>0</td>\n",
       "      <td>0</td>\n",
       "      <td>0</td>\n",
       "      <td>0</td>\n",
       "      <td>0</td>\n",
       "    </tr>\n",
       "    <tr>\n",
       "      <th>2</th>\n",
       "      <td>2</td>\n",
       "      <td>1407</td>\n",
       "      <td>1407</td>\n",
       "      <td>77.0</td>\n",
       "      <td>0</td>\n",
       "      <td>0</td>\n",
       "      <td>100.85</td>\n",
       "      <td>29.5</td>\n",
       "      <td>0</td>\n",
       "      <td>1</td>\n",
       "      <td>1</td>\n",
       "      <td>0</td>\n",
       "      <td>0</td>\n",
       "      <td>1</td>\n",
       "      <td>0</td>\n",
       "      <td>0</td>\n",
       "      <td>0</td>\n",
       "      <td>0</td>\n",
       "    </tr>\n",
       "    <tr>\n",
       "      <th>3</th>\n",
       "      <td>3</td>\n",
       "      <td>1385</td>\n",
       "      <td>1385</td>\n",
       "      <td>45.0</td>\n",
       "      <td>0</td>\n",
       "      <td>0</td>\n",
       "      <td>89.05</td>\n",
       "      <td>27.8</td>\n",
       "      <td>0</td>\n",
       "      <td>1</td>\n",
       "      <td>1</td>\n",
       "      <td>0</td>\n",
       "      <td>0</td>\n",
       "      <td>1</td>\n",
       "      <td>0</td>\n",
       "      <td>1</td>\n",
       "      <td>1</td>\n",
       "      <td>0</td>\n",
       "    </tr>\n",
       "    <tr>\n",
       "      <th>4</th>\n",
       "      <td>4</td>\n",
       "      <td>3600</td>\n",
       "      <td>3601</td>\n",
       "      <td>27.0</td>\n",
       "      <td>0</td>\n",
       "      <td>0</td>\n",
       "      <td>82.05</td>\n",
       "      <td>21.0</td>\n",
       "      <td>0</td>\n",
       "      <td>1</td>\n",
       "      <td>0</td>\n",
       "      <td>0</td>\n",
       "      <td>0</td>\n",
       "      <td>1</td>\n",
       "      <td>0</td>\n",
       "      <td>1</td>\n",
       "      <td>0</td>\n",
       "      <td>0</td>\n",
       "    </tr>\n",
       "  </tbody>\n",
       "</table>\n",
       "</div>"
      ],
      "text/plain": [
       "   Unnamed: 0  level_0  index   age  hypertension  heart_disease  \\\n",
       "0           0     3262   3263  75.0             1              0   \n",
       "1           1     3267   3268   2.0             0              0   \n",
       "2           2     1407   1407  77.0             0              0   \n",
       "3           3     1385   1385  45.0             0              0   \n",
       "4           4     3600   3601  27.0             0              0   \n",
       "\n",
       "   avg_glucose_level   bmi  stroke  gender_Female  ever_married_Yes  \\\n",
       "0              91.85  21.4       0              1                 0   \n",
       "1              99.75  16.0       0              1                 0   \n",
       "2             100.85  29.5       0              1                 1   \n",
       "3              89.05  27.8       0              1                 1   \n",
       "4              82.05  21.0       0              1                 0   \n",
       "\n",
       "   work_type_Govt_job  work_type_Never_worked  work_type_Private  \\\n",
       "0                   0                       0                  0   \n",
       "1                   0                       0                  0   \n",
       "2                   0                       0                  1   \n",
       "3                   0                       0                  1   \n",
       "4                   0                       0                  1   \n",
       "\n",
       "   work_type_Self-employed  Residence_type_Urban  \\\n",
       "0                        1                     0   \n",
       "1                        0                     0   \n",
       "2                        0                     0   \n",
       "3                        0                     1   \n",
       "4                        0                     1   \n",
       "\n",
       "   smoking_status_formerly smoked  smoking_status_never smoked  \n",
       "0                               1                            0  \n",
       "1                               0                            0  \n",
       "2                               0                            0  \n",
       "3                               1                            0  \n",
       "4                               0                            0  "
      ]
     },
     "execution_count": 3,
     "metadata": {},
     "output_type": "execute_result"
    }
   ],
   "source": [
    "train_feats = pd.read_csv('../Xin/Data/X_train.csv')\n",
    "train_feats.head()"
   ]
  },
  {
   "cell_type": "code",
   "execution_count": 4,
   "id": "15229105",
   "metadata": {
    "scrolled": true
   },
   "outputs": [
    {
     "data": {
      "text/html": [
       "<div>\n",
       "<style scoped>\n",
       "    .dataframe tbody tr th:only-of-type {\n",
       "        vertical-align: middle;\n",
       "    }\n",
       "\n",
       "    .dataframe tbody tr th {\n",
       "        vertical-align: top;\n",
       "    }\n",
       "\n",
       "    .dataframe thead th {\n",
       "        text-align: right;\n",
       "    }\n",
       "</style>\n",
       "<table border=\"1\" class=\"dataframe\">\n",
       "  <thead>\n",
       "    <tr style=\"text-align: right;\">\n",
       "      <th></th>\n",
       "      <th>age</th>\n",
       "      <th>hypertension</th>\n",
       "      <th>heart_disease</th>\n",
       "      <th>avg_glucose_level</th>\n",
       "      <th>bmi</th>\n",
       "      <th>stroke</th>\n",
       "      <th>gender_Female</th>\n",
       "      <th>ever_married_Yes</th>\n",
       "      <th>work_type_Govt_job</th>\n",
       "      <th>work_type_Never_worked</th>\n",
       "      <th>work_type_Private</th>\n",
       "      <th>work_type_Self-employed</th>\n",
       "      <th>Residence_type_Urban</th>\n",
       "      <th>smoking_status_formerly smoked</th>\n",
       "      <th>smoking_status_never smoked</th>\n",
       "    </tr>\n",
       "  </thead>\n",
       "  <tbody>\n",
       "    <tr>\n",
       "      <th>0</th>\n",
       "      <td>75.0</td>\n",
       "      <td>1</td>\n",
       "      <td>0</td>\n",
       "      <td>91.85</td>\n",
       "      <td>21.4</td>\n",
       "      <td>0</td>\n",
       "      <td>1</td>\n",
       "      <td>0</td>\n",
       "      <td>0</td>\n",
       "      <td>0</td>\n",
       "      <td>0</td>\n",
       "      <td>1</td>\n",
       "      <td>0</td>\n",
       "      <td>1</td>\n",
       "      <td>0</td>\n",
       "    </tr>\n",
       "    <tr>\n",
       "      <th>1</th>\n",
       "      <td>2.0</td>\n",
       "      <td>0</td>\n",
       "      <td>0</td>\n",
       "      <td>99.75</td>\n",
       "      <td>16.0</td>\n",
       "      <td>0</td>\n",
       "      <td>1</td>\n",
       "      <td>0</td>\n",
       "      <td>0</td>\n",
       "      <td>0</td>\n",
       "      <td>0</td>\n",
       "      <td>0</td>\n",
       "      <td>0</td>\n",
       "      <td>0</td>\n",
       "      <td>0</td>\n",
       "    </tr>\n",
       "    <tr>\n",
       "      <th>2</th>\n",
       "      <td>77.0</td>\n",
       "      <td>0</td>\n",
       "      <td>0</td>\n",
       "      <td>100.85</td>\n",
       "      <td>29.5</td>\n",
       "      <td>0</td>\n",
       "      <td>1</td>\n",
       "      <td>1</td>\n",
       "      <td>0</td>\n",
       "      <td>0</td>\n",
       "      <td>1</td>\n",
       "      <td>0</td>\n",
       "      <td>0</td>\n",
       "      <td>0</td>\n",
       "      <td>0</td>\n",
       "    </tr>\n",
       "    <tr>\n",
       "      <th>3</th>\n",
       "      <td>45.0</td>\n",
       "      <td>0</td>\n",
       "      <td>0</td>\n",
       "      <td>89.05</td>\n",
       "      <td>27.8</td>\n",
       "      <td>0</td>\n",
       "      <td>1</td>\n",
       "      <td>1</td>\n",
       "      <td>0</td>\n",
       "      <td>0</td>\n",
       "      <td>1</td>\n",
       "      <td>0</td>\n",
       "      <td>1</td>\n",
       "      <td>1</td>\n",
       "      <td>0</td>\n",
       "    </tr>\n",
       "    <tr>\n",
       "      <th>4</th>\n",
       "      <td>27.0</td>\n",
       "      <td>0</td>\n",
       "      <td>0</td>\n",
       "      <td>82.05</td>\n",
       "      <td>21.0</td>\n",
       "      <td>0</td>\n",
       "      <td>1</td>\n",
       "      <td>0</td>\n",
       "      <td>0</td>\n",
       "      <td>0</td>\n",
       "      <td>1</td>\n",
       "      <td>0</td>\n",
       "      <td>1</td>\n",
       "      <td>0</td>\n",
       "      <td>0</td>\n",
       "    </tr>\n",
       "  </tbody>\n",
       "</table>\n",
       "</div>"
      ],
      "text/plain": [
       "    age  hypertension  heart_disease  avg_glucose_level   bmi  stroke  \\\n",
       "0  75.0             1              0              91.85  21.4       0   \n",
       "1   2.0             0              0              99.75  16.0       0   \n",
       "2  77.0             0              0             100.85  29.5       0   \n",
       "3  45.0             0              0              89.05  27.8       0   \n",
       "4  27.0             0              0              82.05  21.0       0   \n",
       "\n",
       "   gender_Female  ever_married_Yes  work_type_Govt_job  \\\n",
       "0              1                 0                   0   \n",
       "1              1                 0                   0   \n",
       "2              1                 1                   0   \n",
       "3              1                 1                   0   \n",
       "4              1                 0                   0   \n",
       "\n",
       "   work_type_Never_worked  work_type_Private  work_type_Self-employed  \\\n",
       "0                       0                  0                        1   \n",
       "1                       0                  0                        0   \n",
       "2                       0                  1                        0   \n",
       "3                       0                  1                        0   \n",
       "4                       0                  1                        0   \n",
       "\n",
       "   Residence_type_Urban  smoking_status_formerly smoked  \\\n",
       "0                     0                               1   \n",
       "1                     0                               0   \n",
       "2                     0                               0   \n",
       "3                     1                               1   \n",
       "4                     1                               0   \n",
       "\n",
       "   smoking_status_never smoked  \n",
       "0                            0  \n",
       "1                            0  \n",
       "2                            0  \n",
       "3                            0  \n",
       "4                            0  "
      ]
     },
     "execution_count": 4,
     "metadata": {},
     "output_type": "execute_result"
    }
   ],
   "source": [
    "train_feats = train_feats.drop(['Unnamed: 0', 'level_0' ,'index'], axis=1)\n",
    "train_feats.head()"
   ]
  },
  {
   "cell_type": "code",
   "execution_count": null,
   "id": "31db617b",
   "metadata": {},
   "outputs": [],
   "source": []
  },
  {
   "cell_type": "code",
   "execution_count": 5,
   "id": "720f8841",
   "metadata": {},
   "outputs": [
    {
     "data": {
      "text/html": [
       "<div>\n",
       "<style scoped>\n",
       "    .dataframe tbody tr th:only-of-type {\n",
       "        vertical-align: middle;\n",
       "    }\n",
       "\n",
       "    .dataframe tbody tr th {\n",
       "        vertical-align: top;\n",
       "    }\n",
       "\n",
       "    .dataframe thead th {\n",
       "        text-align: right;\n",
       "    }\n",
       "</style>\n",
       "<table border=\"1\" class=\"dataframe\">\n",
       "  <thead>\n",
       "    <tr style=\"text-align: right;\">\n",
       "      <th></th>\n",
       "      <th>Unnamed: 0</th>\n",
       "      <th>index</th>\n",
       "      <th>stroke</th>\n",
       "    </tr>\n",
       "  </thead>\n",
       "  <tbody>\n",
       "    <tr>\n",
       "      <th>0</th>\n",
       "      <td>0</td>\n",
       "      <td>3262</td>\n",
       "      <td>0</td>\n",
       "    </tr>\n",
       "    <tr>\n",
       "      <th>1</th>\n",
       "      <td>1</td>\n",
       "      <td>3267</td>\n",
       "      <td>0</td>\n",
       "    </tr>\n",
       "    <tr>\n",
       "      <th>2</th>\n",
       "      <td>2</td>\n",
       "      <td>1407</td>\n",
       "      <td>0</td>\n",
       "    </tr>\n",
       "    <tr>\n",
       "      <th>3</th>\n",
       "      <td>3</td>\n",
       "      <td>1385</td>\n",
       "      <td>0</td>\n",
       "    </tr>\n",
       "    <tr>\n",
       "      <th>4</th>\n",
       "      <td>4</td>\n",
       "      <td>3600</td>\n",
       "      <td>0</td>\n",
       "    </tr>\n",
       "  </tbody>\n",
       "</table>\n",
       "</div>"
      ],
      "text/plain": [
       "   Unnamed: 0  index  stroke\n",
       "0           0   3262       0\n",
       "1           1   3267       0\n",
       "2           2   1407       0\n",
       "3           3   1385       0\n",
       "4           4   3600       0"
      ]
     },
     "execution_count": 5,
     "metadata": {},
     "output_type": "execute_result"
    }
   ],
   "source": [
    "train_resp = pd.read_csv('../Xin/Data/Y_train.csv')\n",
    "train_resp.head()"
   ]
  },
  {
   "cell_type": "code",
   "execution_count": 6,
   "id": "170e5063",
   "metadata": {
    "scrolled": true
   },
   "outputs": [
    {
     "data": {
      "text/html": [
       "<div>\n",
       "<style scoped>\n",
       "    .dataframe tbody tr th:only-of-type {\n",
       "        vertical-align: middle;\n",
       "    }\n",
       "\n",
       "    .dataframe tbody tr th {\n",
       "        vertical-align: top;\n",
       "    }\n",
       "\n",
       "    .dataframe thead th {\n",
       "        text-align: right;\n",
       "    }\n",
       "</style>\n",
       "<table border=\"1\" class=\"dataframe\">\n",
       "  <thead>\n",
       "    <tr style=\"text-align: right;\">\n",
       "      <th></th>\n",
       "      <th>stroke</th>\n",
       "    </tr>\n",
       "  </thead>\n",
       "  <tbody>\n",
       "    <tr>\n",
       "      <th>0</th>\n",
       "      <td>0</td>\n",
       "    </tr>\n",
       "    <tr>\n",
       "      <th>1</th>\n",
       "      <td>0</td>\n",
       "    </tr>\n",
       "    <tr>\n",
       "      <th>2</th>\n",
       "      <td>0</td>\n",
       "    </tr>\n",
       "    <tr>\n",
       "      <th>3</th>\n",
       "      <td>0</td>\n",
       "    </tr>\n",
       "    <tr>\n",
       "      <th>4</th>\n",
       "      <td>0</td>\n",
       "    </tr>\n",
       "  </tbody>\n",
       "</table>\n",
       "</div>"
      ],
      "text/plain": [
       "   stroke\n",
       "0       0\n",
       "1       0\n",
       "2       0\n",
       "3       0\n",
       "4       0"
      ]
     },
     "execution_count": 6,
     "metadata": {},
     "output_type": "execute_result"
    }
   ],
   "source": [
    "train_resp = train_resp.drop(['Unnamed: 0', 'index'], axis=1)\n",
    "train_resp.head()"
   ]
  },
  {
   "cell_type": "code",
   "execution_count": 7,
   "id": "64304bfa",
   "metadata": {},
   "outputs": [
    {
     "name": "stdout",
     "output_type": "stream",
     "text": [
      "Samples in Train Set: 4087\n"
     ]
    }
   ],
   "source": [
    "print('Samples in Train Set:', len(train_feats))"
   ]
  },
  {
   "cell_type": "markdown",
   "id": "34b1679a",
   "metadata": {},
   "source": [
    "### Pre-processing"
   ]
  },
  {
   "cell_type": "code",
   "execution_count": 8,
   "id": "aa685fe9",
   "metadata": {},
   "outputs": [],
   "source": [
    "#Scale Numeric Variables\n",
    "num_ix = [0, 3, 4] #index of numeric variables\n",
    "num_ct = ColumnTransformer([\n",
    "    ('num_vars', StandardScaler(), num_ix)\n",
    "], remainder='passthrough')\n",
    "train_feats = num_ct.fit_transform(train_feats)"
   ]
  },
  {
   "cell_type": "code",
   "execution_count": 9,
   "id": "0cb05d6c",
   "metadata": {},
   "outputs": [],
   "source": [
    "### Validation set\n",
    "\n",
    "train_feats, val_feats, train_resp, val_resp = train_test_split(train_feats, train_resp, test_size=0.1, random_state=8)"
   ]
  },
  {
   "cell_type": "markdown",
   "id": "a17157b0",
   "metadata": {},
   "source": [
    "### Plotting activation functions"
   ]
  },
  {
   "cell_type": "code",
   "execution_count": 10,
   "id": "2ae1fc86",
   "metadata": {
    "scrolled": true
   },
   "outputs": [
    {
     "data": {
      "image/png": "[encoded data removed]",
      "text/plain": [
       "<Figure size 432x288 with 1 Axes>"
      ]
     },
     "metadata": {
      "needs_background": "light"
     },
     "output_type": "display_data"
    }
   ],
   "source": [
    "# Sigmoid Function\n",
    "def sigmoid(x):\n",
    "    a = []\n",
    "    for i in x:\n",
    "        a.append(1/(1+math.exp(-i)))\n",
    "    return a\n",
    "# Hyperbolic Tanjant Function\n",
    "def tanh(x, derivative=False):\n",
    "    if (derivative == True):\n",
    "        return (1 - (x ** 2))\n",
    "    return np.tanh(x)\n",
    "# ReLU Function\n",
    "def re(x):\n",
    "    b = []\n",
    "    for i in x:\n",
    "        if i<0:\n",
    "            b.append(0)\n",
    "        else:\n",
    "            b.append(i)\n",
    "    return b\n",
    "# Leaky ReLU Function\n",
    "def lr(x):\n",
    "    b = []\n",
    "    for i in x:\n",
    "        if i<0:\n",
    "            b.append(i/10)\n",
    "        else:\n",
    "            b.append(i)\n",
    "    return b\n",
    "  \n",
    "# Determining the intervals to be created for the graph\n",
    "x = np.arange(-3., 3., 0.1)\n",
    "sig = sigmoid(x)\n",
    "tanh = tanh(x)\n",
    "relu = re(x)\n",
    "leaky_relu = lr(x)\n",
    "swish = sig*x\n",
    "\n",
    "# Displaying the functions\n",
    "line_1, = plt.plot(x,sig, label='Sigmoid')\n",
    "line_2, = plt.plot(x,tanh, label='Tanh')\n",
    "line_3, = plt.plot(x,relu, label='ReLU')\n",
    "line_4, = plt.plot(x,leaky_relu, label='Leaky ReLU')\n",
    "line_5, = plt.plot(x,swish, label='Swish')\n",
    "plt.legend(handles=[line_1, line_2, line_3, line_4, line_5])\n",
    "plt.axhline(y=0, color='k')\n",
    "plt.axvline(x=0, color='k')\n",
    "plt.show()"
   ]
  },
  {
   "cell_type": "markdown",
   "id": "3f5d3a98",
   "metadata": {},
   "source": [
    "### NN"
   ]
  },
  {
   "cell_type": "code",
   "execution_count": 11,
   "id": "ac7764b9",
   "metadata": {},
   "outputs": [
    {
     "name": "stdout",
     "output_type": "stream",
     "text": [
      "Requirement already satisfied: wandb in c:\\users\\user\\anaconda3\\lib\\site-packages (0.13.10)\n",
      "Requirement already satisfied: docker-pycreds>=0.4.0 in c:\\users\\user\\anaconda3\\lib\\site-packages (from wandb) (0.4.0)\n",
      "Requirement already satisfied: appdirs>=1.4.3 in c:\\users\\user\\anaconda3\\lib\\site-packages (from wandb) (1.4.4)\n",
      "Requirement already satisfied: sentry-sdk>=1.0.0 in c:\\users\\user\\anaconda3\\lib\\site-packages (from wandb) (1.16.0)\n",
      "Requirement already satisfied: setuptools in c:\\users\\user\\anaconda3\\lib\\site-packages (from wandb) (61.2.0)\n",
      "Requirement already satisfied: GitPython>=1.0.0 in c:\\users\\user\\anaconda3\\lib\\site-packages (from wandb) (3.1.31)\n",
      "Requirement already satisfied: requests<3,>=2.0.0 in c:\\users\\user\\anaconda3\\lib\\site-packages (from wandb) (2.27.1)\n",
      "Requirement already satisfied: psutil>=5.0.0 in c:\\users\\user\\anaconda3\\lib\\site-packages (from wandb) (5.8.0)\n",
      "Requirement already satisfied: typing-extensions in c:\\users\\user\\anaconda3\\lib\\site-packages (from wandb) (4.1.1)\n",
      "Requirement already satisfied: PyYAML in c:\\users\\user\\anaconda3\\lib\\site-packages (from wandb) (6.0)\n",
      "Requirement already satisfied: setproctitle in c:\\users\\user\\anaconda3\\lib\\site-packages (from wandb) (1.3.2)\n",
      "Requirement already satisfied: protobuf!=4.21.0,<5,>=3.19.0 in c:\\users\\user\\anaconda3\\lib\\site-packages (from wandb) (3.19.1)\n",
      "Requirement already satisfied: pathtools in c:\\users\\user\\anaconda3\\lib\\site-packages (from wandb) (0.1.2)\n",
      "Requirement already satisfied: Click!=8.0.0,>=7.0 in c:\\users\\user\\anaconda3\\lib\\site-packages (from wandb) (8.0.4)\n",
      "Requirement already satisfied: colorama in c:\\users\\user\\anaconda3\\lib\\site-packages (from Click!=8.0.0,>=7.0->wandb) (0.4.4)\n",
      "Requirement already satisfied: six>=1.4.0 in c:\\users\\user\\anaconda3\\lib\\site-packages (from docker-pycreds>=0.4.0->wandb) (1.16.0)\n",
      "Requirement already satisfied: gitdb<5,>=4.0.1 in c:\\users\\user\\anaconda3\\lib\\site-packages (from GitPython>=1.0.0->wandb) (4.0.10)\n",
      "Requirement already satisfied: smmap<6,>=3.0.1 in c:\\users\\user\\anaconda3\\lib\\site-packages (from gitdb<5,>=4.0.1->GitPython>=1.0.0->wandb) (5.0.0)\n",
      "Requirement already satisfied: idna<4,>=2.5 in c:\\users\\user\\anaconda3\\lib\\site-packages (from requests<3,>=2.0.0->wandb) (3.3)\n",
      "Requirement already satisfied: charset-normalizer~=2.0.0 in c:\\users\\user\\anaconda3\\lib\\site-packages (from requests<3,>=2.0.0->wandb) (2.0.4)\n",
      "Requirement already satisfied: urllib3<1.27,>=1.21.1 in c:\\users\\user\\anaconda3\\lib\\site-packages (from requests<3,>=2.0.0->wandb) (1.26.14)\n",
      "Requirement already satisfied: certifi>=2017.4.17 in c:\\users\\user\\anaconda3\\lib\\site-packages (from requests<3,>=2.0.0->wandb) (2021.10.8)\n"
     ]
    },
    {
     "name": "stderr",
     "output_type": "stream",
     "text": [
      "wandb: ERROR Find detailed error logs at: C:\\Users\\user\\AppData\\Local\\Temp\\debug-cli.user.log\n",
      "Error: api_key not configured (no-tty). call wandb login [your_api_key]\n"
     ]
    }
   ],
   "source": [
    "!pip install wandb\n",
    "!wandb login"
   ]
  },
  {
   "cell_type": "code",
   "execution_count": 12,
   "id": "0e8920b0",
   "metadata": {},
   "outputs": [],
   "source": [
    "from wandb.keras import WandbCallback"
   ]
  },
  {
   "cell_type": "markdown",
   "id": "fc6e5e44",
   "metadata": {},
   "source": [
    "### Relu"
   ]
  },
  {
   "cell_type": "code",
   "execution_count": 13,
   "id": "6f4cca5e",
   "metadata": {
    "scrolled": true
   },
   "outputs": [
    {
     "name": "stdout",
     "output_type": "stream",
     "text": [
      "Model: \"stroke_predictor\"\n",
      "__________________________________________________________________________________________________\n",
      " Layer (type)                   Output Shape         Param #     Connected to                     \n",
      "==================================================================================================\n",
      " input_1 (InputLayer)           [(None, 15)]         0           []                               \n",
      "                                                                                                  \n",
      " dense (Dense)                  (None, 64)           1024        ['input_1[0][0]']                \n",
      "                                                                                                  \n",
      " dropout (Dropout)              (None, 64)           0           ['dense[0][0]']                  \n",
      "                                                                                                  \n",
      " dense_1 (Dense)                (None, 128)          8320        ['dropout[0][0]']                \n",
      "                                                                                                  \n",
      " dropout_1 (Dropout)            (None, 128)          0           ['dense_1[0][0]']                \n",
      "                                                                                                  \n",
      " dense_2 (Dense)                (None, 256)          33024       ['dropout_1[0][0]']              \n",
      "                                                                                                  \n",
      " dropout_2 (Dropout)            (None, 256)          0           ['dense_2[0][0]']                \n",
      "                                                                                                  \n",
      " dense_3 (Dense)                (None, 128)          32896       ['dropout_2[0][0]']              \n",
      "                                                                                                  \n",
      " dropout_3 (Dropout)            (None, 128)          0           ['dense_3[0][0]']                \n",
      "                                                                                                  \n",
      " concatenate (Concatenate)      (None, 192)          0           ['dense[0][0]',                  \n",
      "                                                                  'dropout_3[0][0]']              \n",
      "                                                                                                  \n",
      " dense_4 (Dense)                (None, 64)           12352       ['concatenate[0][0]']            \n",
      "                                                                                                  \n",
      " dropout_4 (Dropout)            (None, 64)           0           ['dense_4[0][0]']                \n",
      "                                                                                                  \n",
      " dense_5 (Dense)                (None, 32)           2080        ['dropout_4[0][0]']              \n",
      "                                                                                                  \n",
      " dropout_5 (Dropout)            (None, 32)           0           ['dense_5[0][0]']                \n",
      "                                                                                                  \n",
      " dense_6 (Dense)                (None, 1)            33          ['dropout_5[0][0]']              \n",
      "                                                                                                  \n",
      "==================================================================================================\n",
      "Total params: 89,729\n",
      "Trainable params: 89,729\n",
      "Non-trainable params: 0\n",
      "__________________________________________________________________________________________________\n"
     ]
    }
   ],
   "source": [
    "inputs = keras.Input(shape=(15,))\n",
    "a = layers.Dense(64, activation='relu')(inputs)\n",
    "x = layers.Dropout(0.6)(a)\n",
    "x = layers.Dense(128, activation='relu')(x)\n",
    "x = layers.Dropout(0.6)(x)\n",
    "x = layers.Dense(256, activation='relu')(x)\n",
    "x = layers.Dropout(0.6)(x)\n",
    "x = layers.Dense(128, activation='relu')(x)\n",
    "x = layers.Dropout(0.6)(x)\n",
    "x = layers.concatenate([a, x])\n",
    "x = layers.Dense(64, activation='relu')(x)\n",
    "x = layers.Dropout(0.6)(x)\n",
    "x = layers.Dense(32, activation='relu')(x)\n",
    "x = layers.Dropout(0.6)(x)\n",
    "output = layers.Dense(1, activation='sigmoid')(x)\n",
    "\n",
    "nn = keras.Model(inputs, output, name=\"stroke_predictor\")\n",
    "nn.summary()"
   ]
  },
  {
   "cell_type": "code",
   "execution_count": 14,
   "id": "b01b31ce",
   "metadata": {
    "scrolled": false
   },
   "outputs": [
    {
     "name": "stdout",
     "output_type": "stream",
     "text": [
      "Epoch 1/10\n",
      "115/115 - 5s - loss: 0.6186 - accuracy: 0.6792 - val_loss: 0.4381 - val_accuracy: 0.9487 - 5s/epoch - 42ms/step\n",
      "Epoch 2/10\n",
      "115/115 - 1s - loss: 0.4164 - accuracy: 0.8592 - val_loss: 0.3256 - val_accuracy: 0.9487 - 511ms/epoch - 4ms/step\n",
      "Epoch 3/10\n",
      "115/115 - 1s - loss: 0.3389 - accuracy: 0.9192 - val_loss: 0.2584 - val_accuracy: 0.9487 - 515ms/epoch - 4ms/step\n",
      "Epoch 4/10\n",
      "115/115 - 1s - loss: 0.3139 - accuracy: 0.9247 - val_loss: 0.2305 - val_accuracy: 0.9487 - 516ms/epoch - 4ms/step\n",
      "Epoch 5/10\n",
      "115/115 - 1s - loss: 0.3018 - accuracy: 0.9353 - val_loss: 0.2138 - val_accuracy: 0.9487 - 513ms/epoch - 4ms/step\n",
      "Epoch 6/10\n",
      "115/115 - 1s - loss: 0.2661 - accuracy: 0.9396 - val_loss: 0.2002 - val_accuracy: 0.9487 - 511ms/epoch - 4ms/step\n",
      "Epoch 7/10\n",
      "115/115 - 1s - loss: 0.2615 - accuracy: 0.9396 - val_loss: 0.1912 - val_accuracy: 0.9487 - 509ms/epoch - 4ms/step\n",
      "Epoch 8/10\n",
      "115/115 - 1s - loss: 0.2420 - accuracy: 0.9445 - val_loss: 0.1814 - val_accuracy: 0.9487 - 512ms/epoch - 4ms/step\n",
      "Epoch 9/10\n",
      "115/115 - 0s - loss: 0.2398 - accuracy: 0.9448 - val_loss: 0.1724 - val_accuracy: 0.9487 - 489ms/epoch - 4ms/step\n",
      "Epoch 10/10\n",
      "115/115 - 0s - loss: 0.2243 - accuracy: 0.9489 - val_loss: 0.1632 - val_accuracy: 0.9487 - 495ms/epoch - 4ms/step\n"
     ]
    }
   ],
   "source": [
    "#compiles the model with Adam optimizer\n",
    "nn.compile(optimizer=tf.optimizers.Adam(learning_rate=0.0001),\n",
    "            loss='binary_crossentropy', metrics=['accuracy'])\n",
    "early_stopper = EarlyStopping(monitor='val_loss', patience=30, restore_best_weights=True)\n",
    "\n",
    "# Make a validation set and change this \n",
    "\n",
    "#Trains the neural network\n",
    "history = nn.fit(train_feats, train_resp, validation_data=(val_feats, val_resp), epochs=10, callbacks=[early_stopper], verbose=2)"
   ]
  },
  {
   "cell_type": "markdown",
   "id": "a445b96d",
   "metadata": {},
   "source": [
    "### Import and preprocess test data"
   ]
  },
  {
   "cell_type": "code",
   "execution_count": 15,
   "id": "7c151357",
   "metadata": {},
   "outputs": [
    {
     "name": "stdout",
     "output_type": "stream",
     "text": [
      "Samples in Test Set: 1022\n"
     ]
    }
   ],
   "source": [
    "test_feats = pd.read_csv('../Xin/Data/X_test.csv')\n",
    "test_feats = test_feats.drop(['Unnamed: 0', 'level_0' ,'index'], axis=1)\n",
    "print('Samples in Test Set:', len(test_feats))"
   ]
  },
  {
   "cell_type": "code",
   "execution_count": 16,
   "id": "9116dd32",
   "metadata": {},
   "outputs": [],
   "source": [
    "#Scale Numeric Variables\n",
    "\n",
    "test_feats = num_ct.fit_transform(test_feats)"
   ]
  },
  {
   "cell_type": "code",
   "execution_count": 17,
   "id": "9b522e57",
   "metadata": {},
   "outputs": [],
   "source": [
    "test_resp = pd.read_csv('../Xin/Data/Y_test.csv')\n",
    "test_resp = test_resp.drop(['Unnamed: 0', 'index'], axis=1)"
   ]
  },
  {
   "cell_type": "markdown",
   "id": "326580fa",
   "metadata": {},
   "source": [
    "### Predictions with NN"
   ]
  },
  {
   "cell_type": "code",
   "execution_count": 18,
   "id": "4e2bd8b5",
   "metadata": {},
   "outputs": [
    {
     "name": "stdout",
     "output_type": "stream",
     "text": [
      "32/32 [==============================] - 0s 2ms/step\n",
      "Test Set Metrics\n",
      "Model Accuracy: 0.9559686888454012\n",
      "Model Recall: 0.18181818181818182\n",
      "Model Precision: 1.0\n"
     ]
    }
   ],
   "source": [
    "#Display the metrics of the neural network on the test set\n",
    "test_preds = nn.predict(test_feats)\n",
    "threshold = 0.25\n",
    "test_preds = [1. if i > threshold else 0. for i in test_preds]\n",
    "test_acc = accuracy_score(test_resp, test_preds)\n",
    "test_rec = recall_score(test_resp, test_preds)\n",
    "test_pre = precision_score(test_resp, test_preds)\n",
    "print('Test Set Metrics')\n",
    "print('Model Accuracy:', test_acc)\n",
    "print('Model Recall:', test_rec)\n",
    "print('Model Precision:', test_pre)"
   ]
  },
  {
   "cell_type": "code",
   "execution_count": 20,
   "id": "a84bbf9f",
   "metadata": {},
   "outputs": [
    {
     "data": {
      "image/png": "[encoded data removed]",
      "text/plain": [
       "<IPython.core.display.Image object>"
      ]
     },
     "execution_count": 20,
     "metadata": {},
     "output_type": "execute_result"
    }
   ],
   "source": [
    "## Trying to visualise\n",
    "dot_img_file = './model_1.png'\n",
    "tf.keras.utils.plot_model(nn, to_file=dot_img_file, show_shapes=True)"
   ]
  },
  {
   "cell_type": "markdown",
   "id": "516f54c3",
   "metadata": {},
   "source": [
    "### References \n",
    "1. https://towardsdatascience.com/comparison-of-activation-functions-for-deep-neural-networks-706ac4284c8a"
   ]
  }
 ],
 "metadata": {
  "kernelspec": {
   "display_name": "Python 3 (ipykernel)",
   "language": "python",
   "name": "python3"
  },
  "language_info": {
   "codemirror_mode": {
    "name": "ipython",
    "version": 3
   },
   "file_extension": ".py",
   "mimetype": "text/x-python",
   "name": "python",
   "nbconvert_exporter": "python",
   "pygments_lexer": "ipython3",
   "version": "3.9.12"
  }
 },
 "nbformat": 4,
 "nbformat_minor": 5
}
