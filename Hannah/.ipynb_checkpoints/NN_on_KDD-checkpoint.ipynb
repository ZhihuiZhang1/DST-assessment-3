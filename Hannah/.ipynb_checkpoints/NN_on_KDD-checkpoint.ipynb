{
 "cells": [
  {
   "cell_type": "markdown",
   "id": "dab218b1",
   "metadata": {},
   "source": [
    "# Neural Network on KDD\n",
    "\n",
    "Initial attempt at NN\n",
    "\n",
    "### Data import"
   ]
  },
  {
   "cell_type": "code",
   "execution_count": 1,
   "id": "0170cf29",
   "metadata": {},
   "outputs": [],
   "source": [
    "import pandas as pd\n",
    "import numpy as np\n",
    "import sklearn"
   ]
  },
  {
   "cell_type": "code",
   "execution_count": 8,
   "id": "3a7ff3e7",
   "metadata": {},
   "outputs": [],
   "source": [
    "from sklearn.datasets import fetch_kddcup99"
   ]
  },
  {
   "cell_type": "code",
   "execution_count": 10,
   "id": "a8ea0498",
   "metadata": {},
   "outputs": [],
   "source": [
    "kdd_10 = fetch_kddcup99(percent10=True)"
   ]
  },
  {
   "cell_type": "code",
   "execution_count": null,
   "id": "14a3e8f0",
   "metadata": {},
   "outputs": [],
   "source": []
  }
 ],
 "metadata": {
  "kernelspec": {
   "display_name": "Python 3 (ipykernel)",
   "language": "python",
   "name": "python3"
  },
  "language_info": {
   "codemirror_mode": {
    "name": "ipython",
    "version": 3
   },
   "file_extension": ".py",
   "mimetype": "text/x-python",
   "name": "python",
   "nbconvert_exporter": "python",
   "pygments_lexer": "ipython3",
   "version": "3.9.12"
  }
 },
 "nbformat": 4,
 "nbformat_minor": 5
}
