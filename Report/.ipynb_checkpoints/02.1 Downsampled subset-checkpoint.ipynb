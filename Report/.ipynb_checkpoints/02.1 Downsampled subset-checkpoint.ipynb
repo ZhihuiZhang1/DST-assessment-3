{
 "cells": [
  {
   "cell_type": "markdown",
   "id": "a1e2c303",
   "metadata": {},
   "source": [
    "# Plant Village subset \n"
   ]
  },
  {
   "cell_type": "markdown",
   "id": "e13f6fde",
   "metadata": {},
   "source": [
    "### Introduction\n",
    "\n",
    "In this file, we separate a subset of the plant village data for use in the activation function investigation. The file structure containing the data is as follows:\n",
    "```\n",
    "   ..\\Data\\PlantVillage\\Pepper__bell___Bacterial_spot \n",
    "                       \\Pepper__bell___healthy\n",
    "                       \\Potato___Early_blight\n",
    "                       \\Potato___healthy\n",
    "                       \\Potato___Late_blight\n",
    "                       \\Tomato_Bacterial_spot\n",
    "                       \\Tomato_Early_blight\n",
    "                       \\Tomato_healthy\n",
    "                       \\Tomato_Late_blight\n",
    "                       \\Tomato_Leaf_Mold\n",
    "                       \\Tomato_Septoria_leaf_spot\n",
    "                       \\Tomato_Spider_mites_Two_spotted_spider_mite\n",
    "                       \\Tomato__Target_Spot\n",
    "                       \\Tomato__Tomato_mosaic_virus\n",
    "                       \\Tomato__Tomato_YellowLeaf__Curl_Virus\n",
    "```\n",
    "                  \n",
    "In particular, there are a total of 15 classes of image spread across 3 plant species. The dataset contains 20.6 thousand images, each of size 256x256 pixels, which is far too large to quickly train neural networks in order to compare the impact of changing the activation function. Thus to create a balanced subset of the data, I will take the first 150 images from each of the above folders, and downsample the images to size the smallest size typically used for neural network investigations; 32x32.\n"
   ]
  },
  {
   "cell_type": "code",
   "execution_count": 1,
   "id": "05b1c923",
   "metadata": {},
   "outputs": [],
   "source": [
    "#Required packages\n",
    "\n",
    "import tensorflow as tf\n",
    "import sys\n",
    "import json\n",
    "import math\n",
    "import keras\n",
    "import keras.backend as K\n",
    "import numpy as np\n",
    "import pickle\n",
    "import cv2\n",
    "import pandas as pd\n",
    "import os\n",
    "\n",
    "from os import listdir\n",
    "from sklearn.preprocessing import LabelBinarizer\n",
    "from numpy import asarray\n",
    "from numpy import save\n",
    "\n",
    "\n",
    "from tensorflow.keras.utils import img_to_array\n",
    "from sklearn.model_selection import train_test_split\n",
    "import matplotlib.pyplot as plt"
   ]
  },
  {
   "cell_type": "markdown",
   "id": "a5a0e1f7",
   "metadata": {},
   "source": [
    "### Data import \n",
    "\n",
    "First I define a function to convert the images to arrays. We use depth = 3 to preserve the colour information of the images, as colour is likely important in disease classification."
   ]
  },
  {
   "cell_type": "code",
   "execution_count": 2,
   "id": "cba7e9a2",
   "metadata": {},
   "outputs": [],
   "source": [
    "# Set default image size\n",
    "default_image_size = tuple((256, 256))\n",
    "\n",
    "image_size = 0\n",
    "directory_root = '../Data'\n",
    "width=256\n",
    "height=256\n",
    "depth=3 "
   ]
  },
  {
   "cell_type": "code",
   "execution_count": 3,
   "id": "484d8dfd",
   "metadata": {},
   "outputs": [],
   "source": [
    "# function to convert images to array\n",
    "def convert_image_to_array(image_dir):\n",
    "    try:\n",
    "        image = cv2.imread(image_dir)\n",
    "        if image is not None :\n",
    "            image = cv2.resize(image, default_image_size) \n",
    "          #  gray = cv2.cvtColor(image,cv2.COLOR_BGR2GRAY)\n",
    "            return img_to_array(image)\n",
    "        else :\n",
    "            return np.array([])\n",
    "    except Exception as e:\n",
    "        print(f\"Error : {e}\")\n",
    "        return None"
   ]
  },
  {
   "cell_type": "markdown",
   "id": "225f0abe",
   "metadata": {},
   "source": [
    "Next I import the data into two lists, containing the image arrays and the labels, which are derived from the folder names. Since the image loading takes time to run, the chunk below shows the progress by outputting which folders is being processed. The '.DS_store' condition is present so that the code operates correctly for group members using MAC."
   ]
  },
  {
   "cell_type": "code",
   "execution_count": null,
   "id": "288f3e04",
   "metadata": {
    "scrolled": true
   },
   "outputs": [
    {
     "name": "stdout",
     "output_type": "stream",
     "text": [
      "[INFO] Loading images ...\n",
      "['Pepper__bell___Bacterial_spot', 'Pepper__bell___healthy', 'Potato___Early_blight', 'Potato___healthy', 'Potato___Late_blight', 'Tomato_Bacterial_spot', 'Tomato_Early_blight', 'Tomato_healthy', 'Tomato_Late_blight', 'Tomato_Leaf_Mold', 'Tomato_Septoria_leaf_spot', 'Tomato_Spider_mites_Two_spotted_spider_mite', 'Tomato__Target_Spot', 'Tomato__Tomato_mosaic_virus', 'Tomato__Tomato_YellowLeaf__Curl_Virus']\n",
      "Pepper__bell___Bacterial_spot\n",
      "Pepper__bell___healthy\n",
      "Potato___Early_blight\n",
      "Potato___healthy\n",
      "Potato___Late_blight\n",
      "Tomato_Bacterial_spot\n",
      "Tomato_Early_blight\n",
      "Tomato_healthy\n",
      "Tomato_Late_blight\n",
      "Tomato_Leaf_Mold\n",
      "Tomato_Septoria_leaf_spot\n",
      "Tomato_Spider_mites_Two_spotted_spider_mite\n",
      "Tomato__Target_Spot\n",
      "Tomato__Tomato_mosaic_virus\n",
      "Tomato__Tomato_YellowLeaf__Curl_Virus\n",
      "[INFO] Processing Pepper__bell___Bacterial_spot ...\n",
      "[INFO] Processing Pepper__bell___healthy ...\n",
      "[INFO] Processing Potato___Early_blight ...\n",
      "[INFO] Processing Potato___healthy ...\n",
      "[INFO] Processing Potato___Late_blight ...\n",
      "[INFO] Processing Tomato_Bacterial_spot ...\n",
      "[INFO] Processing Tomato_Early_blight ...\n"
     ]
    }
   ],
   "source": [
    "image_list, label_list = [], []\n",
    "\n",
    "try:\n",
    "    print(\"[INFO] Loading images ...\")\n",
    "    root_dir = listdir(directory_root)\n",
    "    for directory in root_dir :\n",
    "        # remove .DS_Store from list\n",
    "        if directory == \".DS_Store\" :\n",
    "            root_dir.remove(directory)\n",
    "\n",
    "\n",
    "    for plant_folder in root_dir :\n",
    "        plant_disease_folder_list = listdir(f\"{directory_root}/{plant_folder}\")\n",
    "        copy=listdir(f\"{directory_root}/{plant_folder}\")\n",
    "        plant_list = []\n",
    "        print(plant_disease_folder_list)\n",
    "        for disease_folder in copy :\n",
    "            # remove .DS_Store from list\n",
    "            print(disease_folder)\n",
    "            if disease_folder == \".DS_Store\" :\n",
    "                plant_disease_folder_list.remove(disease_folder)\n",
    "            \n",
    "                \n",
    "        for plant_disease_folder in plant_disease_folder_list:\n",
    "            print(f\"[INFO] Processing {plant_disease_folder} ...\")\n",
    "            plant_disease_image_list = listdir(f\"{directory_root}/{plant_folder}/{plant_disease_folder}/\")\n",
    "                \n",
    "            for single_plant_disease_image in plant_disease_image_list :\n",
    "                if single_plant_disease_image == \".DS_Store\" :\n",
    "                    plant_disease_image_list.remove(single_plant_disease_image)\n",
    "\n",
    "            for image in plant_disease_image_list[:150]:\n",
    "                image_directory = f\"{directory_root}/{plant_folder}/{plant_disease_folder}/{image}\"\n",
    "                if image_directory.endswith(\".jpg\") == True or image_directory.endswith(\".JPG\") == True:\n",
    "                    image_list.append(convert_image_to_array(image_directory))\n",
    "                    label_list.append(plant_disease_folder)\n",
    "    print(\"[INFO] Image loading completed\")  \n",
    "except Exception as e:\n",
    "    print(f\"Error : {e}\")"
   ]
  },
  {
   "cell_type": "code",
   "execution_count": null,
   "id": "1700eb33",
   "metadata": {
    "scrolled": false
   },
   "outputs": [],
   "source": [
    "# Checking we have the expected number of images and labels:\n",
    "image_size = len(image_list)\n",
    "print('Number of images: ' + str(image_size))\n",
    "print('Number of labels: ' + str(len(label_list)))"
   ]
  },
  {
   "cell_type": "code",
   "execution_count": null,
   "id": "192dce2b",
   "metadata": {},
   "outputs": [],
   "source": [
    "#Checking that we have the intended distribution of labels\n",
    "from collections import Counter\n",
    "counts = Counter(label_list)\n",
    "df = pd.DataFrame.from_dict(counts, orient='index')\n",
    "df.plot(kind='bar')"
   ]
  },
  {
   "cell_type": "markdown",
   "id": "9b099cfb",
   "metadata": {},
   "source": [
    "### Downsampling\n",
    "\n",
    "We now reduce the dimensions of the arrays from 256x256x3 to 32x32x3."
   ]
  },
  {
   "cell_type": "code",
   "execution_count": null,
   "id": "0fc17811",
   "metadata": {},
   "outputs": [],
   "source": [
    "image_list[0].shape\n",
    "#expected size"
   ]
  },
  {
   "cell_type": "code",
   "execution_count": null,
   "id": "c93c704f",
   "metadata": {},
   "outputs": [],
   "source": [
    "# Downsampling\n",
    "\n",
    "input_size = 256\n",
    "output_size = 32\n",
    "bin_size = input_size // output_size\n",
    "\n",
    "for i in range(len(image_list)):\n",
    "    image_list[i] = image_list[i].reshape((output_size, bin_size, \n",
    "                                   output_size, bin_size, 3)).max(3).max(1)\n",
    "image_list[0].shape\n",
    "\n"
   ]
  },
  {
   "cell_type": "markdown",
   "id": "d3f446eb",
   "metadata": {},
   "source": [
    "### Preprocessing\n",
    "\n",
    "Next we convert the multi-class labels to binary labels (belong or does not belong to the class) for input into the neural networks.\n",
    "Then we split the data into training and test data, and save the files."
   ]
  },
  {
   "cell_type": "code",
   "execution_count": null,
   "id": "2461eaff",
   "metadata": {},
   "outputs": [],
   "source": [
    "#Binarize \n",
    "label_binarizer = LabelBinarizer()\n",
    "image_labels = label_binarizer.fit_transform(label_list)\n",
    "pickle.dump(label_binarizer,open('label_transform.pkl', 'wb'))\n",
    "n_classes = len(label_binarizer.classes_)\n",
    "\n",
    "# Check number of classes\n",
    "print(n_classes)"
   ]
  },
  {
   "cell_type": "code",
   "execution_count": null,
   "id": "d668c8de",
   "metadata": {
    "scrolled": true
   },
   "outputs": [],
   "source": [
    "print(label_binarizer.classes_)"
   ]
  },
  {
   "cell_type": "code",
   "execution_count": null,
   "id": "1599f2eb",
   "metadata": {
    "scrolled": false
   },
   "outputs": [],
   "source": [
    "image_list = np.array(image_list, dtype=np.float32)"
   ]
  },
  {
   "cell_type": "code",
   "execution_count": null,
   "id": "23028f42",
   "metadata": {},
   "outputs": [],
   "source": [
    "from sklearn.model_selection import train_test_split\n",
    "x_train, x_test, y_train, y_test = train_test_split(image_list, image_labels, test_size=0.2, random_state = 42) "
   ]
  },
  {
   "cell_type": "code",
   "execution_count": null,
   "id": "15b20a49",
   "metadata": {},
   "outputs": [],
   "source": [
    "# Check length of training and test sets\n",
    "print(len(x_train))\n",
    "print(len(x_test))"
   ]
  },
  {
   "cell_type": "code",
   "execution_count": null,
   "id": "dc7faa02",
   "metadata": {},
   "outputs": [],
   "source": [
    "x_train[0]"
   ]
  },
  {
   "cell_type": "code",
   "execution_count": null,
   "id": "5a306328",
   "metadata": {},
   "outputs": [],
   "source": [
    "# save numpy array as npy file\n",
    "save('../Data/x_train_sample.npy', x_train)\n",
    "save('../Data/y_train_sample.npy', y_train)\n",
    "save('../Data/x_test_sample.npy', x_test)\n",
    "save('../Data/y_test_sample.npy', y_test)"
   ]
  },
  {
   "cell_type": "markdown",
   "id": "9e047c17",
   "metadata": {},
   "source": [
    "### References\n",
    "1. https://towardsdatascience.com/image-processing-with-python-5b35320a4f3c\n",
    "2. https://www.kaggle.com/code/vijpatel/cnn-plantvillage\n"
   ]
  }
 ],
 "metadata": {
  "kernelspec": {
   "display_name": "Python 3 (ipykernel)",
   "language": "python",
   "name": "python3"
  },
  "language_info": {
   "codemirror_mode": {
    "name": "ipython",
    "version": 3
   },
   "file_extension": ".py",
   "mimetype": "text/x-python",
   "name": "python",
   "nbconvert_exporter": "python",
   "pygments_lexer": "ipython3",
   "version": "3.9.12"
  }
 },
 "nbformat": 4,
 "nbformat_minor": 5
}
