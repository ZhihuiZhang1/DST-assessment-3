{
 "cells": [
  {
   "attachments": {},
   "cell_type": "markdown",
   "metadata": {},
   "source": [
    "# Parallelism for Image Pre-processing"
   ]
  },
  {
   "cell_type": "code",
   "execution_count": 1,
   "metadata": {},
   "outputs": [],
   "source": [
    "import cv2\n",
    "import os\n",
    "import time\n",
    "from multiprocessing import Pool"
   ]
  },
  {
   "cell_type": "code",
   "execution_count": 15,
   "metadata": {},
   "outputs": [
    {
     "name": "stdout",
     "output_type": "stream",
     "text": [
      "Processing time: 3.3667140007019043 [sec]\n"
     ]
    }
   ],
   "source": [
    "start_time = time.time()\n",
    "\n",
    "path = \"/Users/xin/Library/CloudStorage/OneDrive-UniversityofBristol/DST/DST-assessment-3/Data/PlantVillage/Tomato_healthy\"\n",
    "save_path = \"./sequentially_processed_images\"\n",
    "os.makedirs(save_path, exist_ok=True)\n",
    "\n",
    "def image_process(image_path):\n",
    "    img = cv2.imread(os.path.join(path, image_path))\n",
    "    gray = cv2.cvtColor(img, cv2.COLOR_BGR2GRAY)\n",
    "    resized = cv2.resize(gray, (224, 224), interpolation=cv2.INTER_AREA)\n",
    "    cv2.imwrite(os.path.join(save_path, image_path), resized)\n",
    "\n",
    "\n",
    "list_image = os.listdir(path)\n",
    "for image_path in list_image:\n",
    "    image_process(image_path)\n",
    "\n",
    "print('Processing time: {0} [sec]'.format(time.time() - start_time))\n",
    "\n"
   ]
  },
  {
   "attachments": {},
   "cell_type": "markdown",
   "metadata": {},
   "source": [
    "## Multi-processing"
   ]
  },
  {
   "cell_type": "code",
   "execution_count": 19,
   "metadata": {},
   "outputs": [
    {
     "name": "stdout",
     "output_type": "stream",
     "text": [
      "Processing time: 1.4031999111175537 [sec]\n"
     ]
    }
   ],
   "source": [
    "start_time = time.time()\n",
    "\n",
    "\n",
    "path = \"/Users/xin/Library/CloudStorage/OneDrive-UniversityofBristol/DST/DST-assessment-3/Data/PlantVillage/Tomato_healthy\"\n",
    "save_path = \"./parallelly_processed_images\"\n",
    "os.makedirs(save_path, exist_ok=True)\n",
    "def image_process(image_path):\n",
    "    img = cv2.imread(os.path.join(path, image_path))\n",
    "    gray = cv2.cvtColor(img, cv2.COLOR_BGR2GRAY)\n",
    "    resized = cv2.resize(gray, (224, 224), interpolation = cv2.INTER_AREA)\n",
    "    cv2.imwrite(os.path.join(save_path, image_path), resized)\n",
    "    return\n",
    "def main():\n",
    "    list_image = os.listdir(path)\n",
    "    workers = os.cpu_count()\n",
    "    # number of processors used will be equal to workers\n",
    "    with Pool(workers) as p:\n",
    "        p.map(image_process, list_image)\n",
    "\n",
    "    print('Processing time: {0} [sec]'.format(time.time() - start_time))\n",
    "\n",
    "\n",
    "if __name__ == '__main__':\n",
    "    main()"
   ]
  }
 ],
 "metadata": {
  "kernelspec": {
   "display_name": "sklearn-env",
   "language": "python",
   "name": "python3"
  },
  "language_info": {
   "codemirror_mode": {
    "name": "ipython",
    "version": 3
   },
   "file_extension": ".py",
   "mimetype": "text/x-python",
   "name": "python",
   "nbconvert_exporter": "python",
   "pygments_lexer": "ipython3",
   "version": "3.10.9"
  },
  "orig_nbformat": 4,
  "vscode": {
   "interpreter": {
    "hash": "4990abdef3ebc9f72751f78a325f8319b605d7f3eaf2931f11ce533253df6476"
   }
  }
 },
 "nbformat": 4,
 "nbformat_minor": 2
}
