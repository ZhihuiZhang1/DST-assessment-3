{
 "cells": [
  {
   "cell_type": "code",
   "execution_count": 1,
   "metadata": {},
   "outputs": [],
   "source": [
    "from keras.models import Sequential\n",
    "from keras.layers import Dense\n",
    "from keras.layers import Dropout\n",
    "from keras.layers import Input\n",
    "from keras.layers import BatchNormalization\n",
    "from keras.optimizers import RMSprop\n",
    "import numpy as np"
   ]
  },
  {
   "cell_type": "code",
   "execution_count": 2,
   "metadata": {},
   "outputs": [],
   "source": [
    "import pandas as pd"
   ]
  },
  {
   "attachments": {},
   "cell_type": "markdown",
   "metadata": {},
   "source": [
    "# Load dataset"
   ]
  },
  {
   "cell_type": "code",
   "execution_count": 3,
   "metadata": {},
   "outputs": [],
   "source": [
    "X_train=pd.read_csv('C:/Users/haile/OneDrive - University of Bristol/assessment3/DST-assessment-3/Xin/Data/X_train.csv')\n",
    "Y_train=pd.read_csv('C:/Users/haile/OneDrive - University of Bristol/assessment3/DST-assessment-3/Xin/Data/Y_train.csv')"
   ]
  },
  {
   "cell_type": "code",
   "execution_count": 4,
   "metadata": {},
   "outputs": [],
   "source": [
    "X_test=pd.read_csv('C:/Users/haile/OneDrive - University of Bristol/assessment3/DST-assessment-3/Xin/Data\\X_test.csv')\n",
    "Y_test=pd.read_csv('C:/Users/haile/OneDrive - University of Bristol/assessment3/DST-assessment-3/Xin/Data\\Y_test.csv')"
   ]
  },
  {
   "cell_type": "code",
   "execution_count": 5,
   "metadata": {},
   "outputs": [],
   "source": [
    "Y_train.drop('index',axis=1,inplace=True)\n",
    "Y_test.drop('index',axis=1,inplace=True)"
   ]
  },
  {
   "cell_type": "markdown",
   "metadata": {},
   "source": [
    "# Define the RBM model"
   ]
  },
  {
   "cell_type": "code",
   "execution_count": 6,
   "metadata": {},
   "outputs": [],
   "source": [
    "rbm = Sequential()\n",
    "rbm.add(Dense(units=10, activation='relu', input_dim=X_train.shape[1]))\n",
    "rbm.add(BatchNormalization())\n",
    "rbm.add(Dense(units=5, activation='relu'))\n",
    "rbm.add(Dense(units=10, activation='relu'))\n",
    "rbm.add(Dense(units=X_train.shape[1], activation='sigmoid'))\n"
   ]
  },
  {
   "attachments": {},
   "cell_type": "markdown",
   "metadata": {},
   "source": [
    "# Compile the model"
   ]
  },
  {
   "cell_type": "code",
   "execution_count": 7,
   "metadata": {},
   "outputs": [],
   "source": [
    "rbm.compile(loss='mean_squared_error', optimizer=RMSprop())"
   ]
  },
  {
   "attachments": {},
   "cell_type": "markdown",
   "metadata": {},
   "source": [
    "# Train the model"
   ]
  },
  {
   "cell_type": "code",
   "execution_count": 8,
   "metadata": {},
   "outputs": [
    {
     "name": "stdout",
     "output_type": "stream",
     "text": [
      "Epoch 1/100\n",
      "128/128 [==============================] - 1s 1ms/step - loss: 544904.3125\n",
      "Epoch 2/100\n",
      "128/128 [==============================] - 0s 1ms/step - loss: 544821.5625\n",
      "Epoch 3/100\n",
      "128/128 [==============================] - 0s 1ms/step - loss: 544795.1875\n",
      "Epoch 4/100\n",
      "128/128 [==============================] - 0s 1ms/step - loss: 544791.8750\n",
      "Epoch 5/100\n",
      "128/128 [==============================] - 0s 1ms/step - loss: 544792.0000\n",
      "Epoch 6/100\n",
      "128/128 [==============================] - 0s 1ms/step - loss: 544791.9375\n",
      "Epoch 7/100\n",
      "128/128 [==============================] - 0s 1ms/step - loss: 544791.8750\n",
      "Epoch 8/100\n",
      "128/128 [==============================] - 0s 1ms/step - loss: 544791.9375\n",
      "Epoch 9/100\n",
      "128/128 [==============================] - 0s 1ms/step - loss: 544791.9375\n",
      "Epoch 10/100\n",
      "128/128 [==============================] - 0s 1ms/step - loss: 544792.0000\n",
      "Epoch 11/100\n",
      "128/128 [==============================] - 0s 1ms/step - loss: 544791.9375\n",
      "Epoch 12/100\n",
      "128/128 [==============================] - 0s 1ms/step - loss: 544791.8750\n",
      "Epoch 13/100\n",
      "128/128 [==============================] - 0s 1ms/step - loss: 544791.9375\n",
      "Epoch 14/100\n",
      "128/128 [==============================] - 0s 1ms/step - loss: 544791.9375\n",
      "Epoch 15/100\n",
      "128/128 [==============================] - 0s 1ms/step - loss: 544792.0000\n",
      "Epoch 16/100\n",
      "128/128 [==============================] - 0s 1ms/step - loss: 544791.8125\n",
      "Epoch 17/100\n",
      "128/128 [==============================] - 0s 1ms/step - loss: 544791.9375\n",
      "Epoch 18/100\n",
      "128/128 [==============================] - 0s 1ms/step - loss: 544792.0000\n",
      "Epoch 19/100\n",
      "128/128 [==============================] - 0s 1ms/step - loss: 544791.8750\n",
      "Epoch 20/100\n",
      "128/128 [==============================] - 0s 1ms/step - loss: 544791.9375\n",
      "Epoch 21/100\n",
      "128/128 [==============================] - 0s 1ms/step - loss: 544792.0000\n",
      "Epoch 22/100\n",
      "128/128 [==============================] - 0s 1ms/step - loss: 544791.8125\n",
      "Epoch 23/100\n",
      "128/128 [==============================] - 0s 1ms/step - loss: 544791.7500\n",
      "Epoch 24/100\n",
      "128/128 [==============================] - 0s 1ms/step - loss: 544791.8750\n",
      "Epoch 25/100\n",
      "128/128 [==============================] - 0s 1ms/step - loss: 544791.8750\n",
      "Epoch 26/100\n",
      "128/128 [==============================] - 0s 1ms/step - loss: 544791.9375\n",
      "Epoch 27/100\n",
      "128/128 [==============================] - 0s 1ms/step - loss: 544792.0000\n",
      "Epoch 28/100\n",
      "128/128 [==============================] - 0s 1ms/step - loss: 544791.7500\n",
      "Epoch 29/100\n",
      "128/128 [==============================] - 0s 1ms/step - loss: 544792.0000\n",
      "Epoch 30/100\n",
      "128/128 [==============================] - 0s 1ms/step - loss: 544791.8750\n",
      "Epoch 31/100\n",
      "128/128 [==============================] - 0s 1ms/step - loss: 544791.7500\n",
      "Epoch 32/100\n",
      "128/128 [==============================] - 0s 1ms/step - loss: 544791.8750\n",
      "Epoch 33/100\n",
      "128/128 [==============================] - 0s 1ms/step - loss: 544791.9375\n",
      "Epoch 34/100\n",
      "128/128 [==============================] - 0s 1ms/step - loss: 544791.8125\n",
      "Epoch 35/100\n",
      "128/128 [==============================] - 0s 1ms/step - loss: 544791.8750\n",
      "Epoch 36/100\n",
      "128/128 [==============================] - 0s 1ms/step - loss: 544792.0625\n",
      "Epoch 37/100\n",
      "128/128 [==============================] - 0s 1ms/step - loss: 544791.9375\n",
      "Epoch 38/100\n",
      "128/128 [==============================] - 0s 1ms/step - loss: 544791.9375\n",
      "Epoch 39/100\n",
      "128/128 [==============================] - 0s 1ms/step - loss: 544791.8750\n",
      "Epoch 40/100\n",
      "128/128 [==============================] - 0s 1ms/step - loss: 544791.9375\n",
      "Epoch 41/100\n",
      "128/128 [==============================] - 0s 1ms/step - loss: 544791.7500\n",
      "Epoch 42/100\n",
      "128/128 [==============================] - 0s 1ms/step - loss: 544791.8125\n",
      "Epoch 43/100\n",
      "128/128 [==============================] - 0s 1ms/step - loss: 544791.9375\n",
      "Epoch 44/100\n",
      "128/128 [==============================] - 0s 1ms/step - loss: 544791.7500\n",
      "Epoch 45/100\n",
      "128/128 [==============================] - 0s 1ms/step - loss: 544791.6875\n",
      "Epoch 46/100\n",
      "128/128 [==============================] - 0s 1ms/step - loss: 544791.8750\n",
      "Epoch 47/100\n",
      "128/128 [==============================] - 0s 1ms/step - loss: 544791.8750\n",
      "Epoch 48/100\n",
      "128/128 [==============================] - 0s 1ms/step - loss: 544791.8125\n",
      "Epoch 49/100\n",
      "128/128 [==============================] - 0s 1ms/step - loss: 544791.8750\n",
      "Epoch 50/100\n",
      "128/128 [==============================] - 0s 1ms/step - loss: 544791.8750\n",
      "Epoch 51/100\n",
      "128/128 [==============================] - 0s 1ms/step - loss: 544791.9375\n",
      "Epoch 52/100\n",
      "128/128 [==============================] - 0s 1ms/step - loss: 544791.7500\n",
      "Epoch 53/100\n",
      "128/128 [==============================] - 0s 1ms/step - loss: 544792.0000\n",
      "Epoch 54/100\n",
      "128/128 [==============================] - 0s 1ms/step - loss: 544791.9375\n",
      "Epoch 55/100\n",
      "128/128 [==============================] - 0s 1ms/step - loss: 544791.9375\n",
      "Epoch 56/100\n",
      "128/128 [==============================] - 0s 1ms/step - loss: 544791.9375\n",
      "Epoch 57/100\n",
      "128/128 [==============================] - 0s 1ms/step - loss: 544791.9375\n",
      "Epoch 58/100\n",
      "128/128 [==============================] - 0s 1ms/step - loss: 544791.9375\n",
      "Epoch 59/100\n",
      "128/128 [==============================] - 0s 1ms/step - loss: 544791.8125\n",
      "Epoch 60/100\n",
      "128/128 [==============================] - 0s 1ms/step - loss: 544791.8750\n",
      "Epoch 61/100\n",
      "128/128 [==============================] - 0s 1ms/step - loss: 544791.9375\n",
      "Epoch 62/100\n",
      "128/128 [==============================] - 0s 1ms/step - loss: 544791.8125\n",
      "Epoch 63/100\n",
      "128/128 [==============================] - 0s 1ms/step - loss: 544791.9375\n",
      "Epoch 64/100\n",
      "128/128 [==============================] - 0s 1ms/step - loss: 544791.8750\n",
      "Epoch 65/100\n",
      "128/128 [==============================] - 0s 1ms/step - loss: 544791.8750\n",
      "Epoch 66/100\n",
      "128/128 [==============================] - 0s 1ms/step - loss: 544791.8750\n",
      "Epoch 67/100\n",
      "128/128 [==============================] - 0s 1ms/step - loss: 544791.7500\n",
      "Epoch 68/100\n",
      "128/128 [==============================] - 0s 1ms/step - loss: 544791.8750\n",
      "Epoch 69/100\n",
      "128/128 [==============================] - 0s 1ms/step - loss: 544791.9375\n",
      "Epoch 70/100\n",
      "128/128 [==============================] - 0s 1ms/step - loss: 544791.8125\n",
      "Epoch 71/100\n",
      "128/128 [==============================] - 0s 1ms/step - loss: 544791.8125\n",
      "Epoch 72/100\n",
      "128/128 [==============================] - 0s 1ms/step - loss: 544791.8125\n",
      "Epoch 73/100\n",
      "128/128 [==============================] - 0s 1ms/step - loss: 544791.9375\n",
      "Epoch 74/100\n",
      "128/128 [==============================] - 0s 1ms/step - loss: 544791.7500\n",
      "Epoch 75/100\n",
      "128/128 [==============================] - 0s 1ms/step - loss: 544791.8750\n",
      "Epoch 76/100\n",
      "128/128 [==============================] - 0s 1ms/step - loss: 544791.8125\n",
      "Epoch 77/100\n",
      "128/128 [==============================] - 0s 1ms/step - loss: 544791.8750\n",
      "Epoch 78/100\n",
      "128/128 [==============================] - 0s 1ms/step - loss: 544791.8125\n",
      "Epoch 79/100\n",
      "128/128 [==============================] - 0s 1ms/step - loss: 544791.6875\n",
      "Epoch 80/100\n",
      "128/128 [==============================] - 0s 1ms/step - loss: 544791.9375\n",
      "Epoch 81/100\n",
      "128/128 [==============================] - 0s 1ms/step - loss: 544791.8750\n",
      "Epoch 82/100\n",
      "128/128 [==============================] - 0s 1ms/step - loss: 544791.8750\n",
      "Epoch 83/100\n",
      "128/128 [==============================] - 0s 1ms/step - loss: 544791.8125\n",
      "Epoch 84/100\n",
      "128/128 [==============================] - 0s 1ms/step - loss: 544791.9375\n",
      "Epoch 85/100\n",
      "128/128 [==============================] - 0s 1ms/step - loss: 544791.8750\n",
      "Epoch 86/100\n",
      "128/128 [==============================] - 0s 1ms/step - loss: 544791.9375\n",
      "Epoch 87/100\n",
      "128/128 [==============================] - 0s 991us/step - loss: 544791.8125\n",
      "Epoch 88/100\n",
      "128/128 [==============================] - 0s 1ms/step - loss: 544791.8750\n",
      "Epoch 89/100\n",
      "128/128 [==============================] - 0s 1ms/step - loss: 544791.7500\n",
      "Epoch 90/100\n",
      "128/128 [==============================] - 0s 1ms/step - loss: 544791.9375\n",
      "Epoch 91/100\n",
      "128/128 [==============================] - 0s 1ms/step - loss: 544791.8125\n",
      "Epoch 92/100\n",
      "128/128 [==============================] - 0s 1ms/step - loss: 544791.8750\n",
      "Epoch 93/100\n",
      "128/128 [==============================] - 0s 1ms/step - loss: 544791.8750\n",
      "Epoch 94/100\n",
      "128/128 [==============================] - 0s 1ms/step - loss: 544791.8750\n",
      "Epoch 95/100\n",
      "128/128 [==============================] - 0s 1ms/step - loss: 544791.8750\n",
      "Epoch 96/100\n",
      "128/128 [==============================] - 0s 1ms/step - loss: 544791.8750\n",
      "Epoch 97/100\n",
      "128/128 [==============================] - 0s 1ms/step - loss: 544791.8125\n",
      "Epoch 98/100\n",
      "128/128 [==============================] - 0s 1ms/step - loss: 544791.8125\n",
      "Epoch 99/100\n",
      "128/128 [==============================] - 0s 1ms/step - loss: 544791.8750\n",
      "Epoch 100/100\n",
      "128/128 [==============================] - 0s 1ms/step - loss: 544791.8750\n"
     ]
    },
    {
     "data": {
      "text/plain": [
       "<keras.callbacks.History at 0x24bdafdae20>"
      ]
     },
     "execution_count": 8,
     "metadata": {},
     "output_type": "execute_result"
    }
   ],
   "source": [
    "rbm.fit(X_train, X_train, epochs=100, batch_size=32)"
   ]
  },
  {
   "cell_type": "markdown",
   "metadata": {},
   "source": [
    "# Use the trained RBM to transform the data"
   ]
  },
  {
   "cell_type": "code",
   "execution_count": 9,
   "metadata": {},
   "outputs": [
    {
     "name": "stdout",
     "output_type": "stream",
     "text": [
      "128/128 [==============================] - 0s 878us/step\n",
      "32/32 [==============================] - 0s 998us/step\n"
     ]
    }
   ],
   "source": [
    "\n",
    "X_train_transformed = rbm.predict(X_train)\n",
    "X_test_transformed = rbm.predict(X_test)"
   ]
  },
  {
   "attachments": {},
   "cell_type": "markdown",
   "metadata": {},
   "source": [
    "# Define the logistic regression model"
   ]
  },
  {
   "cell_type": "code",
   "execution_count": 13,
   "metadata": {},
   "outputs": [],
   "source": [
    "logistic = Sequential()\n",
    "logistic.add(Dropout(0.2, input_shape=(16,)))\n",
    "logistic.add(Dense(units=1, activation='sigmoid'))\n"
   ]
  },
  {
   "attachments": {},
   "cell_type": "markdown",
   "metadata": {},
   "source": [
    "# Compile the model"
   ]
  },
  {
   "cell_type": "code",
   "execution_count": 14,
   "metadata": {},
   "outputs": [],
   "source": [
    "logistic.compile(loss='binary_crossentropy', optimizer=RMSprop(), metrics=['accuracy'])"
   ]
  },
  {
   "attachments": {},
   "cell_type": "markdown",
   "metadata": {},
   "source": [
    "# Train the model"
   ]
  },
  {
   "cell_type": "code",
   "execution_count": 15,
   "metadata": {},
   "outputs": [
    {
     "name": "stdout",
     "output_type": "stream",
     "text": [
      "Epoch 1/100\n",
      "128/128 [==============================] - 0s 765us/step - loss: 1.1328 - accuracy: 0.1813\n",
      "Epoch 2/100\n",
      "128/128 [==============================] - 0s 811us/step - loss: 0.6316 - accuracy: 0.6212\n",
      "Epoch 3/100\n",
      "128/128 [==============================] - 0s 788us/step - loss: 0.3657 - accuracy: 0.9290\n",
      "Epoch 4/100\n",
      "128/128 [==============================] - 0s 850us/step - loss: 0.2635 - accuracy: 0.9525\n",
      "Epoch 5/100\n",
      "128/128 [==============================] - 0s 828us/step - loss: 0.2351 - accuracy: 0.9525\n",
      "Epoch 6/100\n",
      "128/128 [==============================] - 0s 952us/step - loss: 0.2256 - accuracy: 0.9525\n",
      "Epoch 7/100\n",
      "128/128 [==============================] - 0s 940us/step - loss: 0.2228 - accuracy: 0.9525\n",
      "Epoch 8/100\n",
      "128/128 [==============================] - 0s 768us/step - loss: 0.2177 - accuracy: 0.9525\n",
      "Epoch 9/100\n",
      "128/128 [==============================] - 0s 834us/step - loss: 0.2150 - accuracy: 0.9525\n",
      "Epoch 10/100\n",
      "128/128 [==============================] - 0s 844us/step - loss: 0.2143 - accuracy: 0.9525\n",
      "Epoch 11/100\n",
      "128/128 [==============================] - 0s 880us/step - loss: 0.2131 - accuracy: 0.9525\n",
      "Epoch 12/100\n",
      "128/128 [==============================] - 0s 986us/step - loss: 0.2056 - accuracy: 0.9525\n",
      "Epoch 13/100\n",
      "128/128 [==============================] - 0s 896us/step - loss: 0.2065 - accuracy: 0.9525\n",
      "Epoch 14/100\n",
      "128/128 [==============================] - 0s 955us/step - loss: 0.2086 - accuracy: 0.9525\n",
      "Epoch 15/100\n",
      "128/128 [==============================] - 0s 881us/step - loss: 0.2038 - accuracy: 0.9525\n",
      "Epoch 16/100\n",
      "128/128 [==============================] - 0s 972us/step - loss: 0.2026 - accuracy: 0.9525\n",
      "Epoch 17/100\n",
      "128/128 [==============================] - 0s 903us/step - loss: 0.2011 - accuracy: 0.9525\n",
      "Epoch 18/100\n",
      "128/128 [==============================] - 0s 832us/step - loss: 0.1994 - accuracy: 0.9525\n",
      "Epoch 19/100\n",
      "128/128 [==============================] - 0s 818us/step - loss: 0.1968 - accuracy: 0.9525\n",
      "Epoch 20/100\n",
      "128/128 [==============================] - 0s 791us/step - loss: 0.1965 - accuracy: 0.9525\n",
      "Epoch 21/100\n",
      "128/128 [==============================] - 0s 788us/step - loss: 0.1986 - accuracy: 0.9525\n",
      "Epoch 22/100\n",
      "128/128 [==============================] - 0s 825us/step - loss: 0.1952 - accuracy: 0.9525\n",
      "Epoch 23/100\n",
      "128/128 [==============================] - 0s 805us/step - loss: 0.1963 - accuracy: 0.9525\n",
      "Epoch 24/100\n",
      "128/128 [==============================] - 0s 818us/step - loss: 0.1935 - accuracy: 0.9525\n",
      "Epoch 25/100\n",
      "128/128 [==============================] - 0s 854us/step - loss: 0.1915 - accuracy: 0.9525\n",
      "Epoch 26/100\n",
      "128/128 [==============================] - 0s 849us/step - loss: 0.1929 - accuracy: 0.9525\n",
      "Epoch 27/100\n",
      "128/128 [==============================] - 0s 925us/step - loss: 0.1926 - accuracy: 0.9525\n",
      "Epoch 28/100\n",
      "128/128 [==============================] - 0s 730us/step - loss: 0.1922 - accuracy: 0.9525\n",
      "Epoch 29/100\n",
      "128/128 [==============================] - 0s 784us/step - loss: 0.1926 - accuracy: 0.9525\n",
      "Epoch 30/100\n",
      "128/128 [==============================] - 0s 714us/step - loss: 0.1916 - accuracy: 0.9525\n",
      "Epoch 31/100\n",
      "128/128 [==============================] - 0s 789us/step - loss: 0.1906 - accuracy: 0.9525\n",
      "Epoch 32/100\n",
      "128/128 [==============================] - 0s 789us/step - loss: 0.1919 - accuracy: 0.9525\n",
      "Epoch 33/100\n",
      "128/128 [==============================] - 0s 757us/step - loss: 0.1896 - accuracy: 0.9525\n",
      "Epoch 34/100\n",
      "128/128 [==============================] - 0s 805us/step - loss: 0.1892 - accuracy: 0.9525\n",
      "Epoch 35/100\n",
      "128/128 [==============================] - 0s 825us/step - loss: 0.1910 - accuracy: 0.9525\n",
      "Epoch 36/100\n",
      "128/128 [==============================] - 0s 733us/step - loss: 0.1884 - accuracy: 0.9525\n",
      "Epoch 37/100\n",
      "128/128 [==============================] - 0s 742us/step - loss: 0.1872 - accuracy: 0.9525\n",
      "Epoch 38/100\n",
      "128/128 [==============================] - 0s 800us/step - loss: 0.1894 - accuracy: 0.9525\n",
      "Epoch 39/100\n",
      "128/128 [==============================] - 0s 800us/step - loss: 0.1882 - accuracy: 0.9525\n",
      "Epoch 40/100\n",
      "128/128 [==============================] - 0s 944us/step - loss: 0.1899 - accuracy: 0.9525\n",
      "Epoch 41/100\n",
      "128/128 [==============================] - 0s 770us/step - loss: 0.1857 - accuracy: 0.9525\n",
      "Epoch 42/100\n",
      "128/128 [==============================] - 0s 787us/step - loss: 0.1878 - accuracy: 0.9525\n",
      "Epoch 43/100\n",
      "128/128 [==============================] - 0s 826us/step - loss: 0.1897 - accuracy: 0.9525\n",
      "Epoch 44/100\n",
      "128/128 [==============================] - 0s 829us/step - loss: 0.1877 - accuracy: 0.9525\n",
      "Epoch 45/100\n",
      "128/128 [==============================] - 0s 833us/step - loss: 0.1898 - accuracy: 0.9525\n",
      "Epoch 46/100\n",
      "128/128 [==============================] - 0s 853us/step - loss: 0.1888 - accuracy: 0.9525\n",
      "Epoch 47/100\n",
      "128/128 [==============================] - 0s 880us/step - loss: 0.1863 - accuracy: 0.9525\n",
      "Epoch 48/100\n",
      "128/128 [==============================] - 0s 829us/step - loss: 0.1881 - accuracy: 0.9525\n",
      "Epoch 49/100\n",
      "128/128 [==============================] - 0s 753us/step - loss: 0.1852 - accuracy: 0.9525\n",
      "Epoch 50/100\n",
      "128/128 [==============================] - 0s 842us/step - loss: 0.1878 - accuracy: 0.9525\n",
      "Epoch 51/100\n",
      "128/128 [==============================] - 0s 825us/step - loss: 0.1879 - accuracy: 0.9525\n",
      "Epoch 52/100\n",
      "128/128 [==============================] - 0s 866us/step - loss: 0.1870 - accuracy: 0.9525\n",
      "Epoch 53/100\n",
      "128/128 [==============================] - 0s 839us/step - loss: 0.1875 - accuracy: 0.9525\n",
      "Epoch 54/100\n",
      "128/128 [==============================] - 0s 912us/step - loss: 0.1859 - accuracy: 0.9525\n",
      "Epoch 55/100\n",
      "128/128 [==============================] - 0s 885us/step - loss: 0.1861 - accuracy: 0.9525\n",
      "Epoch 56/100\n",
      "128/128 [==============================] - 0s 928us/step - loss: 0.1855 - accuracy: 0.9525\n",
      "Epoch 57/100\n",
      "128/128 [==============================] - 0s 899us/step - loss: 0.1877 - accuracy: 0.9525\n",
      "Epoch 58/100\n",
      "128/128 [==============================] - 0s 859us/step - loss: 0.1868 - accuracy: 0.9525\n",
      "Epoch 59/100\n",
      "128/128 [==============================] - 0s 1ms/step - loss: 0.1883 - accuracy: 0.9525\n",
      "Epoch 60/100\n",
      "128/128 [==============================] - 0s 971us/step - loss: 0.1893 - accuracy: 0.9525\n",
      "Epoch 61/100\n",
      "128/128 [==============================] - 0s 818us/step - loss: 0.1857 - accuracy: 0.9525\n",
      "Epoch 62/100\n",
      "128/128 [==============================] - 0s 958us/step - loss: 0.1881 - accuracy: 0.9525\n",
      "Epoch 63/100\n",
      "128/128 [==============================] - 0s 915us/step - loss: 0.1837 - accuracy: 0.9525\n",
      "Epoch 64/100\n",
      "128/128 [==============================] - 0s 918us/step - loss: 0.1868 - accuracy: 0.9525\n",
      "Epoch 65/100\n",
      "128/128 [==============================] - 0s 975us/step - loss: 0.1830 - accuracy: 0.9525\n",
      "Epoch 66/100\n",
      "128/128 [==============================] - 0s 916us/step - loss: 0.1850 - accuracy: 0.9525\n",
      "Epoch 67/100\n",
      "128/128 [==============================] - 0s 941us/step - loss: 0.1866 - accuracy: 0.9525\n",
      "Epoch 68/100\n",
      "128/128 [==============================] - 0s 1ms/step - loss: 0.1840 - accuracy: 0.9525\n",
      "Epoch 69/100\n",
      "128/128 [==============================] - 0s 1ms/step - loss: 0.1852 - accuracy: 0.9525\n",
      "Epoch 70/100\n",
      "128/128 [==============================] - 0s 1ms/step - loss: 0.1878 - accuracy: 0.9525\n",
      "Epoch 71/100\n",
      "128/128 [==============================] - 0s 1ms/step - loss: 0.1861 - accuracy: 0.9525\n",
      "Epoch 72/100\n",
      "128/128 [==============================] - 0s 863us/step - loss: 0.1837 - accuracy: 0.9525\n",
      "Epoch 73/100\n",
      "128/128 [==============================] - 0s 871us/step - loss: 0.1869 - accuracy: 0.9525\n",
      "Epoch 74/100\n",
      "128/128 [==============================] - 0s 1ms/step - loss: 0.1854 - accuracy: 0.9525\n",
      "Epoch 75/100\n",
      "128/128 [==============================] - 0s 1ms/step - loss: 0.1860 - accuracy: 0.9525\n",
      "Epoch 76/100\n",
      "128/128 [==============================] - 0s 921us/step - loss: 0.1846 - accuracy: 0.9525\n",
      "Epoch 77/100\n",
      "128/128 [==============================] - 0s 1ms/step - loss: 0.1847 - accuracy: 0.9528\n",
      "Epoch 78/100\n",
      "128/128 [==============================] - 0s 1ms/step - loss: 0.1856 - accuracy: 0.9525\n",
      "Epoch 79/100\n",
      "128/128 [==============================] - 0s 866us/step - loss: 0.1858 - accuracy: 0.9525\n",
      "Epoch 80/100\n",
      "128/128 [==============================] - 0s 898us/step - loss: 0.1861 - accuracy: 0.9525\n",
      "Epoch 81/100\n",
      "128/128 [==============================] - 0s 944us/step - loss: 0.1879 - accuracy: 0.9525\n",
      "Epoch 82/100\n",
      "128/128 [==============================] - 0s 881us/step - loss: 0.1852 - accuracy: 0.9525\n",
      "Epoch 83/100\n",
      "128/128 [==============================] - 0s 891us/step - loss: 0.1838 - accuracy: 0.9525\n",
      "Epoch 84/100\n",
      "128/128 [==============================] - 0s 923us/step - loss: 0.1842 - accuracy: 0.9525\n",
      "Epoch 85/100\n",
      "128/128 [==============================] - 0s 887us/step - loss: 0.1836 - accuracy: 0.9525\n",
      "Epoch 86/100\n",
      "128/128 [==============================] - 0s 1ms/step - loss: 0.1828 - accuracy: 0.9525\n",
      "Epoch 87/100\n",
      "128/128 [==============================] - 0s 1ms/step - loss: 0.1843 - accuracy: 0.9525\n",
      "Epoch 88/100\n",
      "128/128 [==============================] - 0s 884us/step - loss: 0.1848 - accuracy: 0.9525\n",
      "Epoch 89/100\n",
      "128/128 [==============================] - 0s 1ms/step - loss: 0.1832 - accuracy: 0.9525\n",
      "Epoch 90/100\n",
      "128/128 [==============================] - 0s 871us/step - loss: 0.1864 - accuracy: 0.9525\n",
      "Epoch 91/100\n",
      "128/128 [==============================] - 0s 898us/step - loss: 0.1826 - accuracy: 0.9525\n",
      "Epoch 92/100\n",
      "128/128 [==============================] - 0s 872us/step - loss: 0.1858 - accuracy: 0.9525\n",
      "Epoch 93/100\n",
      "128/128 [==============================] - 0s 874us/step - loss: 0.1828 - accuracy: 0.9525\n",
      "Epoch 94/100\n",
      "128/128 [==============================] - 0s 916us/step - loss: 0.1815 - accuracy: 0.9525\n",
      "Epoch 95/100\n",
      "128/128 [==============================] - 0s 861us/step - loss: 0.1834 - accuracy: 0.9525\n",
      "Epoch 96/100\n",
      "128/128 [==============================] - 0s 882us/step - loss: 0.1840 - accuracy: 0.9525\n",
      "Epoch 97/100\n",
      "128/128 [==============================] - 0s 904us/step - loss: 0.1843 - accuracy: 0.9525\n",
      "Epoch 98/100\n",
      "128/128 [==============================] - 0s 885us/step - loss: 0.1838 - accuracy: 0.9525\n",
      "Epoch 99/100\n",
      "128/128 [==============================] - 0s 858us/step - loss: 0.1847 - accuracy: 0.9525\n",
      "Epoch 100/100\n",
      "128/128 [==============================] - 0s 975us/step - loss: 0.1824 - accuracy: 0.9525\n"
     ]
    },
    {
     "data": {
      "text/plain": [
       "<keras.callbacks.History at 0x24bdef88940>"
      ]
     },
     "execution_count": 15,
     "metadata": {},
     "output_type": "execute_result"
    }
   ],
   "source": [
    "logistic.fit(X_train_transformed, Y_train, epochs=100, batch_size=32)"
   ]
  },
  {
   "attachments": {},
   "cell_type": "markdown",
   "metadata": {},
   "source": [
    "# Evaluate the model on the testing set"
   ]
  },
  {
   "cell_type": "code",
   "execution_count": 17,
   "metadata": {},
   "outputs": [
    {
     "name": "stdout",
     "output_type": "stream",
     "text": [
      "32/32 [==============================] - 0s 870us/step - loss: 0.1938 - accuracy: 0.9462\n",
      "Test accuracy: 0.946183979511261\n"
     ]
    }
   ],
   "source": [
    "loss, accuracy = logistic.evaluate(X_test_transformed, Y_test)\n",
    "print('Test accuracy:', accuracy)"
   ]
  }
 ],
 "metadata": {
  "kernelspec": {
   "display_name": "tf",
   "language": "python",
   "name": "python3"
  },
  "language_info": {
   "codemirror_mode": {
    "name": "ipython",
    "version": 3
   },
   "file_extension": ".py",
   "mimetype": "text/x-python",
   "name": "python",
   "nbconvert_exporter": "python",
   "pygments_lexer": "ipython3",
   "version": "3.9.16"
  },
  "orig_nbformat": 4,
  "vscode": {
   "interpreter": {
    "hash": "eeb0b4a1f1fc5ab215c7c5c64754f775acea0a93fdff470701699d5ccb4b9670"
   }
  }
 },
 "nbformat": 4,
 "nbformat_minor": 2
}
