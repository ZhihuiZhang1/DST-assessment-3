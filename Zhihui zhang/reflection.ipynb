{
 "cells": [
  {
   "attachments": {},
   "cell_type": "markdown",
   "metadata": {},
   "source": [
    "# Reflection"
   ]
  },
  {
   "attachments": {},
   "cell_type": "markdown",
   "metadata": {},
   "source": [
    "\n",
    "In this project, our aim was to assess the disease status of plants using neural networks. Through this endeavor, we gained a preliminary understanding of the principles underlying neural networks. We focused on the construction of simple neural network architectures and explored the process of adjusting various parameters."
   ]
  },
  {
   "attachments": {},
   "cell_type": "markdown",
   "metadata": {},
   "source": [
    "## Data selection\n"
   ]
  },
  {
   "attachments": {},
   "cell_type": "markdown",
   "metadata": {},
   "source": [
    "We dedicated a significant amount of time to carefully selecting a suitable dataset for our project. Initially, we focused on a dataset that aimed to predict the likelihood of stroke in patients based on input parameters such as gender, age, various diseases, and smoking status. This dataset presented a binary classification problem. However, we discovered that employing basic machine learning techniques, such as logistic regression, yielded exceptional results with 100% accuracy. Interestingly, more complex neural network architectures did not improve performance in this specific case. Nonetheless, we took the opportunity to gain hands-on experience by constructing various types of neural networks, including DNNs, autoencoders, and RBMs. This exploration served as an excellent starting point for our learning journey.\n",
    "\n",
    "Later on, we came across a sizable dataset comprising images of plant leaves affected by 15 different types of diseases. This dataset proved to be quite extensive, amounting to approximately 12GB in size. Since we had yet to explore graph datasets, we thought it is a good opportunity to learn image recognition tasks through this project. "
   ]
  },
  {
   "attachments": {},
   "cell_type": "markdown",
   "metadata": {},
   "source": [
    "In the Plant Village dataset, the images exhibit a high level of consistency. They were captured from the same angle and share a similar background. This consistency in data collection contributes to favorable performance results in our neural network models. However, it's essential to recognize that many real-world classification problems involve datasets that lack such uniformity. Consequently, the performance of our neural network on this dataset may not accurately reflect the performance that can be expected on other image datasets with varying conditions and inconsistencies."
   ]
  },
  {
   "attachments": {},
   "cell_type": "markdown",
   "metadata": {},
   "source": [
    "## model construction"
   ]
  },
  {
   "attachments": {},
   "cell_type": "markdown",
   "metadata": {},
   "source": [
    "The most thrilling aspect of this project, personally, has been the opportunity to construct my own neural network model. Prior to this, I experimented with three popular pre-trained CNN models widely utilized in image identification tasks: Inception, ResNet, and VGG. I assessed the performance of these models and observed favorable results with Inception. However, the accuracy curves for the other models, ResNet and VGG, exhibited instability and failed to converge. Adjusting these complex models proved challenging, making it difficult to pinpoint the exact reasons for their underperformance on our dataset.\n",
    "\n",
    "As a result, we decided to embark on building our own CNN model, starting with a simpler architecture comprising three convolutional layers. By implementing techniques such as data augmentation and adjusting the learning rate, it has been truly exciting to witness the improvement in our model's performance. The iterative process of fine-tuning and observing the effects of these adjustments has been a valuable learning experience."
   ]
  },
  {
   "attachments": {},
   "cell_type": "markdown",
   "metadata": {},
   "source": [
    "## HPC "
   ]
  },
  {
   "attachments": {},
   "cell_type": "markdown",
   "metadata": {},
   "source": [
    "\n",
    "One of the challenges I encountered throughout this project was related to working with High-Performance Computing (HPC). Modifying the .sh file proved to be a annoying task for me. For example, since I aimed to compare the effectiveness of different strategies, I needed to compile and train four different models, each requiring 50 epochs. This extensive process consumed significant memory and time resources. However, if I allocated excessive time in the .sh file, it meant having to wait a prolonged duration to obtain the results. Striking the right balance between resource allocation and timely results proved to be a delicate task. This tells me that time and resource consumption is a big problem when dealing with big data.\n",
    "\n",
    "\n"
   ]
  },
  {
   "attachments": {},
   "cell_type": "markdown",
   "metadata": {},
   "source": [
    "## Parallelism"
   ]
  },
  {
   "attachments": {},
   "cell_type": "markdown",
   "metadata": {},
   "source": [
    "Initially, I had planned to experiment with both data parallelism and model parallelism techniques. For data parallelism, I leveraged two GPU nodes in the HPC system to distribute the data, resulting in a significant reduction in training time. However, when it came to model parallelism, I encountered configuration issues on my computer that prevented me from utilizing the cufft package from CUDA.\n",
    "\n",
    "Nevertheless, exploring the mathematical principles behind cufft has been an intriguing experience. The Fast Fourier Transform (FFT) algorithm, relies on the Discrete Fourier Transform (DFT) to break down a signal or sequence into its constituent frequencies. By exploiting the symmetry and periodicity properties of the DFT, the FFT algorithm effectively reduces the computational complexity. While I must admit that I still have some gaps in my understanding of the algorithm's principles, I am committed to spending time to learn more about parallel algorithms and deepen my knowledge in this area."
   ]
  },
  {
   "attachments": {},
   "cell_type": "markdown",
   "metadata": {},
   "source": [
    "Overall, it was a very rewarding project and I saw the magic of machine learning in it. It also encouraged me to explore further in this field."
   ]
  }
 ],
 "metadata": {
  "language_info": {
   "name": "python"
  },
  "orig_nbformat": 4
 },
 "nbformat": 4,
 "nbformat_minor": 2
}
